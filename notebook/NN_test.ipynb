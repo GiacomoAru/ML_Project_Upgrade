{
 "cells": [
  {
   "cell_type": "code",
   "execution_count": 1,
   "metadata": {},
   "outputs": [],
   "source": [
    "import sys\n",
    "import os\n",
    "import pandas as pd\n",
    "import plotly.express as px\n",
    "import ast\n",
    "from sklearn.preprocessing import StandardScaler, MinMaxScaler\n",
    "\n",
    "sys.path.append(os.path.abspath('../src/'))\n",
    "from ActivationFunction import *\n",
    "import PlotUtils\n",
    "from MatrixNeuralNetwork import *"
   ]
  },
  {
   "cell_type": "code",
   "execution_count": 2,
   "metadata": {},
   "outputs": [],
   "source": [
    "RANDOM_STATE = 310907\n",
    "\n",
    "tr_norm_df = pd.read_csv('../data/divided_std_train_0_8.csv')\n",
    "test_norm_df = pd.read_csv('../data/divided_std_test_0_2.csv')\n",
    "\n",
    "tr_df = pd.read_csv('../data/divided_train_0_8.csv')\n",
    "test_df = pd.read_csv('../data/divided_test_0_2.csv')\n",
    "\n",
    "TR_INPUT = 10\n",
    "TR_OUTPUT = 3\n",
    "\n",
    "tr_normalized = tr_norm_df.values\n",
    "test_normalized = test_norm_df.values\n",
    "training_set = tr_df.values\n",
    "test_set = test_df.values\n",
    "\n",
    "scaler_out = StandardScaler()\n",
    "scaler_out.fit(training_set[:,TR_INPUT:])\n",
    "\n",
    "training_len = len(tr_norm_df)\n",
    "test_len = len(test_norm_df)"
   ]
  },
  {
   "cell_type": "code",
   "execution_count": 3,
   "metadata": {},
   "outputs": [
    {
     "data": {
      "text/plain": [
       "(800, 13)"
      ]
     },
     "execution_count": 3,
     "metadata": {},
     "output_type": "execute_result"
    }
   ],
   "source": [
    "tr_normalized.shape"
   ]
  },
  {
   "cell_type": "code",
   "execution_count": 4,
   "metadata": {},
   "outputs": [
    {
     "name": "stdout",
     "output_type": "stream",
     "text": [
      "layer_0\n",
      "ExponentialLinearUnit : (4, 5)\n",
      "[[0.5 0.5 0.5 0.5 0.5]\n",
      " [0.5 0.5 0.5 0.5 0.5]\n",
      " [0.5 0.5 0.5 0.5 0.5]\n",
      " [0.5 0.5 0.5 0.5 0.5]]\n",
      "----------------------------------------------------------------------------------------------------\n",
      "layer_1\n",
      "ExponentialLinearUnit : (6, 5)\n",
      "[[0.32534243 0.36675078 0.49826795 0.00651187 0.67195128]\n",
      " [0.60482555 0.59572137 0.43294254 0.00525816 0.33109295]\n",
      " [0.60828681 0.17117049 0.66948171 0.37213622 0.73245596]\n",
      " [0.48336649 0.3586909  0.03679962 0.38398619 0.13232046]\n",
      " [0.45193295 0.54799595 0.5734715  0.11392521 0.5275575 ]\n",
      " [0.72746016 0.53238461 0.07829251 0.36764233 0.22830986]]\n",
      "----------------------------------------------------------------------------------------------------\n",
      "layer_2\n",
      "IdentityFunction : (6, 2)\n",
      "[[-0.57713659  0.50576502]\n",
      " [ 0.01011749  0.45104315]\n",
      " [ 0.09605322  0.17393659]\n",
      " [-0.44277123  0.47437927]\n",
      " [ 0.09600984 -0.05205604]\n",
      " [ 0.36405442  0.45305754]]\n",
      "----------------------------------------------------------------------------------------------------\n",
      "\n"
     ]
    }
   ],
   "source": [
    "complex_struct = [[10, SigmoidFunction(2), ['uniform', {'low':-1, 'high':1}]],\n",
    "          [15, RectifiedLinearUnit(), ['uniform', {'low':0, 'high':1}]],\n",
    "          [25, HyperbolicTangentFunction(4), ['uniform', {'low':-1, 'high':1}]],\n",
    "          [50, ExponentialLinearUnit(), ['uniform', {'low':0, 'high':1}]],\n",
    "          [500, SigmoidFunction(8), ['uniform', {'low':-1, 'high':1}]],\n",
    "          [3, IdentityFunction(), ['uniform', {'low':-1, 'high':1}]]]\n",
    "simple_struct = [[5, ExponentialLinearUnit(), ['uniform', {'low':0.5, 'high':0.5}]],\n",
    "          [5, ExponentialLinearUnit(), ['uniform', {'low':0, 'high':0.75}]],\n",
    "          [2, IdentityFunction(), ['uniform', {'low':-0.7, 'high':0.7}]]]\n",
    "\n",
    "myNN = MatrixNeuralNetwork(simple_struct, 3, RANDOM_STATE)\n",
    "print(myNN)"
   ]
  },
  {
   "cell_type": "code",
   "execution_count": 10,
   "metadata": {},
   "outputs": [
    {
     "name": "stdout",
     "output_type": "stream",
     "text": [
      "[[ 0.09635145  0.09635145  0.09635145  0.09635145  0.09635145]\n",
      " [-0.45888473 -0.45888473 -0.45888473 -0.45888473 -0.45888473]\n",
      " [ 2.27609923  2.27609923  2.27609923  2.27609923  2.27609923]\n",
      " [ 0.44317069  0.44317069  0.44317069  0.44317069  0.44317069]\n",
      " [ 0.94801559  0.94801559  0.94801559  0.94801559  0.94801559]\n",
      " [ 2.27659996  2.27659996  2.27659996  2.27659996  2.27659996]\n",
      " [ 0.05116161  0.05116161  0.05116161  0.05116161  0.05116161]\n",
      " [-0.88925719 -0.88925719 -0.88925719 -0.88925719 -0.88925719]\n",
      " [ 0.84163     0.84163     0.84163     0.84163     0.84163   ]\n",
      " [ 1.0830755   1.0830755   1.0830755   1.0830755   1.0830755 ]]\n",
      "----------------\n",
      "[[ 0.96580996  0.72897331  0.29132202  0.45260673  0.45910801]\n",
      " [-0.18291086 -0.21848094 -0.73536833  0.04312293 -0.65321783]\n",
      " [ 6.35797023  5.17637699  5.11066443  2.3747468   5.6804282 ]\n",
      " [ 1.82375552  1.43659883  1.05812665  0.75843806  1.28987124]\n",
      " [ 3.07261772  2.46664877  2.1743202   1.2036192   2.49916568]\n",
      " [ 6.35920892  5.17739865  5.11177153  2.37518835  5.68162765]\n",
      " [ 0.85402142  0.63677116  0.19140896  0.41275754  0.35086128]\n",
      " [-0.72967778 -0.66944923 -1.22405133 -0.15178275 -1.18266151]\n",
      " [ 2.80944593  2.24958712  1.93910558  1.10980651  2.24433197]\n",
      " [ 3.40672276  2.7422155   2.47293272  1.32271742  2.82268525]]\n",
      "----------------\n",
      "[[-0.31431439  1.51180832]\n",
      " [ 0.34338646  0.23485338]\n",
      " [-3.26818763  7.72322746]\n",
      " [-0.78430458  2.500106  ]\n",
      " [-1.46844238  3.93871431]\n",
      " [-3.26886619  7.72465435]\n",
      " [-0.25307564  1.38303518]\n",
      " [ 0.58599339 -0.1825041 ]\n",
      " [-1.32427453  3.63555746]\n",
      " [-1.65146808  4.32358166]]\n",
      "----------------\n",
      "[[ 0.09635145  0.09635145  0.09635145  0.09635145  0.09635145]\n",
      " [-0.36801191 -0.36801191 -0.36801191 -0.36801191 -0.36801191]\n",
      " [ 2.27609923  2.27609923  2.27609923  2.27609923  2.27609923]\n",
      " [ 0.44317069  0.44317069  0.44317069  0.44317069  0.44317069]\n",
      " [ 0.94801559  0.94801559  0.94801559  0.94801559  0.94801559]\n",
      " [ 2.27659996  2.27659996  2.27659996  2.27659996  2.27659996]\n",
      " [ 0.05116161  0.05116161  0.05116161  0.05116161  0.05116161]\n",
      " [-0.5890391  -0.5890391  -0.5890391  -0.5890391  -0.5890391 ]\n",
      " [ 0.84163     0.84163     0.84163     0.84163     0.84163   ]\n",
      " [ 1.0830755   1.0830755   1.0830755   1.0830755   1.0830755 ]]\n",
      "----------------\n",
      "[[ 0.96580996  0.72897331  0.29132202  0.45260673  0.45910801]\n",
      " [-0.16715761 -0.1962612  -0.52067113  0.04312293 -0.47963138]\n",
      " [ 6.35797023  5.17637699  5.11066443  2.3747468   5.6804282 ]\n",
      " [ 1.82375552  1.43659883  1.05812665  0.75843806  1.28987124]\n",
      " [ 3.07261772  2.46664877  2.1743202   1.2036192   2.49916568]\n",
      " [ 6.35920892  5.17739865  5.11177153  2.37518835  5.68162765]\n",
      " [ 0.85402142  0.63677116  0.19140896  0.41275754  0.35086128]\n",
      " [-0.51793571 -0.48800951 -0.70596349 -0.14082508 -0.693538  ]\n",
      " [ 2.80944593  2.24958712  1.93910558  1.10980651  2.24433197]\n",
      " [ 3.40672276  2.7422155   2.47293272  1.32271742  2.82268525]]\n",
      "----------------\n",
      "[[-0.31431439  1.51180832]\n",
      " [ 0.34338646  0.23485338]\n",
      " [-3.26818763  7.72322746]\n",
      " [-0.78430458  2.500106  ]\n",
      " [-1.46844238  3.93871431]\n",
      " [-3.26886619  7.72465435]\n",
      " [-0.25307564  1.38303518]\n",
      " [ 0.58599339 -0.1825041 ]\n",
      " [-1.32427453  3.63555746]\n",
      " [-1.65146808  4.32358166]]\n",
      "----------------\n"
     ]
    },
    {
     "data": {
      "text/plain": [
       "array([[-0.31431439,  1.51180832],\n",
       "       [ 0.34338646,  0.23485338],\n",
       "       [-3.26818763,  7.72322746],\n",
       "       [-0.78430458,  2.500106  ],\n",
       "       [-1.46844238,  3.93871431],\n",
       "       [-3.26886619,  7.72465435],\n",
       "       [-0.25307564,  1.38303518],\n",
       "       [ 0.58599339, -0.1825041 ],\n",
       "       [-1.32427453,  3.63555746],\n",
       "       [-1.65146808,  4.32358166]])"
      ]
     },
     "execution_count": 10,
     "metadata": {},
     "output_type": "execute_result"
    }
   ],
   "source": [
    "myNN.predict_for_training(tr_normalized[:10, :3])"
   ]
  },
  {
   "cell_type": "code",
   "execution_count": 11,
   "metadata": {},
   "outputs": [
    {
     "name": "stdout",
     "output_type": "stream",
     "text": [
      "[[-0.9327713  -1.42938033 -1.36130145 -1.19146627 -1.3978347 ]\n",
      " [ 0.0531673   0.08229469  0.07900203  0.06965062  0.08013494]\n",
      " [-3.39903063 -6.00968546 -6.33506656 -6.03723809 -5.54188274]\n",
      " [-0.66527418 -1.38552076 -1.59903298 -1.6246215  -1.2017718 ]\n",
      " [-1.28136403 -2.49890627 -2.78865095 -2.76991729 -2.21974854]\n",
      " [-3.20092637 -5.77812892 -6.16952898 -5.93663657 -5.28530102]\n",
      " [-1.02677163 -1.50434475 -1.37994764 -1.16530838 -1.50005129]\n",
      " [ 0.05152085  0.2022565   0.28677424  0.3268161   0.14619675]\n",
      " [-1.1578706  -2.27170022 -2.54327833 -2.5318132  -2.01344266]\n",
      " [-2.18640052 -3.66343024 -3.72792994 -3.45528802 -3.45161447]]\n",
      "----------------\n",
      "[[-8.70624744e-01 -1.16588366e+00 -5.17986776e-01 -8.89730840e-01\n",
      "   6.24429658e-02]\n",
      " [ 5.22668579e-02  6.59167476e-02  2.88093615e-02  5.26485373e-02\n",
      "  -4.03297652e-03]\n",
      " [-5.75002100e+00 -3.72381194e+00 -1.18947770e+00 -5.12953525e+00\n",
      "   6.89763686e-01]\n",
      " [-1.79882704e+00 -5.91758992e-01 -5.04260681e-02 -1.49707938e+00\n",
      "   2.55767254e-01]\n",
      " [-2.91860111e+00 -1.25092904e+00 -2.45019091e-01 -2.48362196e+00\n",
      "   3.94698458e-01]\n",
      " [-5.79685569e+00 -3.42902418e+00 -1.01670232e+00 -5.11026413e+00\n",
      "   7.18060392e-01]\n",
      " [-7.36072513e-01 -1.32862671e+00 -6.30391608e-01 -8.16621718e-01\n",
      "   2.88719401e-02]\n",
      " [ 4.44858576e-01 -1.63725283e-02 -7.88499914e-02  3.39679320e-01\n",
      "  -7.46027384e-02]\n",
      " [-2.68117435e+00 -1.12144083e+00 -2.09526599e-01 -2.27637411e+00\n",
      "   3.64523930e-01]\n",
      " [-3.04784927e+00 -2.52779630e+00 -9.41386085e-01 -2.82297922e+00\n",
      "   3.26974332e-01]]\n",
      "----------------\n",
      "[[-0.74209179 -2.5682145 ]\n",
      " [ 0.03678467  0.14531776]\n",
      " [ 2.67540295 -8.31601214]\n",
      " [ 1.92915836 -1.35525222]\n",
      " [ 2.57596126 -2.83119543]\n",
      " [ 3.31669231 -7.67682823]\n",
      " [-1.2808338  -2.91694462]\n",
      " [-0.78714016 -0.01864267]\n",
      " [ 2.41923816 -2.54059383]\n",
      " [ 0.36258286 -5.61246688]]\n",
      "----------------\n"
     ]
    }
   ],
   "source": [
    "myNN.backpropagate(tr_normalized[:10, -1:])"
   ]
  },
  {
   "cell_type": "code",
   "execution_count": 7,
   "metadata": {},
   "outputs": [
    {
     "ename": "NameError",
     "evalue": "name 'circular_index' is not defined",
     "output_type": "error",
     "traceback": [
      "\u001b[0;31m---------------------------------------------------------------------------\u001b[0m",
      "\u001b[0;31mNameError\u001b[0m                                 Traceback (most recent call last)",
      "Cell \u001b[0;32mIn[7], line 8\u001b[0m\n\u001b[1;32m      6\u001b[0m tot_len \u001b[38;5;241m=\u001b[39m \u001b[38;5;241m800\u001b[39m\n\u001b[1;32m      7\u001b[0m \u001b[38;5;28;01mfor\u001b[39;00m i \u001b[38;5;129;01min\u001b[39;00m \u001b[38;5;28mrange\u001b[39m(\u001b[38;5;241m1000000\u001b[39m):\n\u001b[0;32m----> 8\u001b[0m     a \u001b[38;5;241m=\u001b[39m tr_normalized[\u001b[43mcircular_index\u001b[49m(tr_normalized, k, (k\u001b[38;5;241m+\u001b[39mstep)\u001b[38;5;241m%\u001b[39mtot_len)][:,:\u001b[38;5;241m10\u001b[39m]\n\u001b[1;32m      9\u001b[0m     k \u001b[38;5;241m=\u001b[39m (k\u001b[38;5;241m+\u001b[39mstep)\u001b[38;5;241m%\u001b[39mtot_len\n\u001b[1;32m     11\u001b[0m \u001b[38;5;28mprint\u001b[39m(\u001b[38;5;124m\"\u001b[39m\u001b[38;5;124m--- \u001b[39m\u001b[38;5;132;01m%s\u001b[39;00m\u001b[38;5;124m seconds ---\u001b[39m\u001b[38;5;124m\"\u001b[39m \u001b[38;5;241m%\u001b[39m (time\u001b[38;5;241m.\u001b[39mtime() \u001b[38;5;241m-\u001b[39m start_time))\n",
      "\u001b[0;31mNameError\u001b[0m: name 'circular_index' is not defined"
     ]
    }
   ],
   "source": [
    "import time\n",
    "start_time = time.time()\n",
    "\n",
    "k = 0\n",
    "step = 33\n",
    "tot_len = 800\n",
    "for i in range(1000000):\n",
    "    a = tr_normalized[circular_index(tr_normalized, k, (k+step)%tot_len)][:,:10]\n",
    "    k = (k+step)%tot_len\n",
    "\n",
    "print(\"--- %s seconds ---\" % (time.time() - start_time))\n",
    "\n",
    "start_time = time.time()\n",
    "for i in range(1000000):\n",
    "    high = max(k+step, (k+step)%tot_len)\n",
    "    a = tr_normalized[k:high,:10]\n",
    "    k = (k+step)%tot_len\n",
    "\n",
    "print(\"--- %s seconds ---\" % (time.time() - start_time))"
   ]
  },
  {
   "cell_type": "code",
   "execution_count": null,
   "metadata": {},
   "outputs": [
    {
     "data": {
      "text/plain": [
       "array([[-0.93011778,  0.92133772, -0.79851704],\n",
       "       [-0.91383339, -0.2076762 , -0.79625988],\n",
       "       [ 1.42879961,  0.59610576,  1.52729308],\n",
       "       [ 1.24262993, -1.31099144, -0.04529711],\n",
       "       [ 1.27240377, -1.33960823,  0.96323563],\n",
       "       [ 1.42583762,  0.85067755,  1.27668474],\n",
       "       [-0.94887093,  0.85024236, -0.7990482 ],\n",
       "       [-0.84677264, -1.19199602, -0.73974572],\n",
       "       [ 0.9008453 , -1.34720733,  1.12962203],\n",
       "       [ 0.98870128, -1.33901788,  1.51646761]])"
      ]
     },
     "execution_count": 10,
     "metadata": {},
     "output_type": "execute_result"
    }
   ],
   "source": [
    "tr_normalized[:10, :3]"
   ]
  },
  {
   "cell_type": "code",
   "execution_count": null,
   "metadata": {},
   "outputs": [
    {
     "ename": "ValueError",
     "evalue": "matmul: Input operand 1 has a mismatch in its core dimension 0, with gufunc signature (n?,k),(k,m?)->(n?,m?) (size 4 is different from 10)",
     "output_type": "error",
     "traceback": [
      "\u001b[0;31m---------------------------------------------------------------------------\u001b[0m",
      "\u001b[0;31mValueError\u001b[0m                                Traceback (most recent call last)",
      "Cell \u001b[0;32mIn[12], line 1\u001b[0m\n\u001b[0;32m----> 1\u001b[0m \u001b[43mmyNN\u001b[49m\u001b[38;5;241;43m.\u001b[39;49m\u001b[43mpredict\u001b[49m\u001b[43m(\u001b[49m\u001b[43mtr_normalized\u001b[49m\u001b[43m[\u001b[49m\u001b[43m:\u001b[49m\u001b[38;5;241;43m10\u001b[39;49m\u001b[43m,\u001b[49m\u001b[43m \u001b[49m\u001b[43m:\u001b[49m\u001b[38;5;241;43m10\u001b[39;49m\u001b[43m]\u001b[49m\u001b[43m)\u001b[49m\n",
      "File \u001b[0;32m~/NN_Project_Upgrade/src/MatrixNeuralNetwork.py:144\u001b[0m, in \u001b[0;36mMatrixNeuralNetwork.predict\u001b[0;34m(self, patterns)\u001b[0m\n\u001b[1;32m    141\u001b[0m tmp_values \u001b[38;5;241m=\u001b[39m patterns\n\u001b[1;32m    142\u001b[0m \u001b[38;5;28;01mfor\u001b[39;00m weights, act_fun \u001b[38;5;129;01min\u001b[39;00m \u001b[38;5;28mself\u001b[39m\u001b[38;5;241m.\u001b[39mlayers:\n\u001b[1;32m    143\u001b[0m     \u001b[38;5;66;03m# weight\u001b[39;00m\n\u001b[0;32m--> 144\u001b[0m     tmp_values \u001b[38;5;241m=\u001b[39m \u001b[43mnp\u001b[49m\u001b[38;5;241;43m.\u001b[39;49m\u001b[43mmatmul\u001b[49m\u001b[43m(\u001b[49m\u001b[43mtmp_values\u001b[49m\u001b[43m,\u001b[49m\u001b[43m \u001b[49m\u001b[43mweights\u001b[49m\u001b[43m)\u001b[49m\n\u001b[1;32m    145\u001b[0m     \u001b[38;5;66;03m# activation fun\u001b[39;00m\n\u001b[1;32m    146\u001b[0m     tmp_values \u001b[38;5;241m=\u001b[39m act_fun\u001b[38;5;241m.\u001b[39mcompute(tmp_values)\n",
      "\u001b[0;31mValueError\u001b[0m: matmul: Input operand 1 has a mismatch in its core dimension 0, with gufunc signature (n?,k),(k,m?)->(n?,m?) (size 4 is different from 10)"
     ]
    }
   ],
   "source": [
    "myNN.predict(tr_normalized[:10, :10])"
   ]
  },
  {
   "cell_type": "code",
   "execution_count": null,
   "metadata": {},
   "outputs": [
    {
     "name": "stdout",
     "output_type": "stream",
     "text": [
      "[[1 2 3 4]\n",
      " [1 2 3 4]\n",
      " [1 2 3 4]\n",
      " [1 2 3 4]\n",
      " [1 2 3 4]]\n",
      "(5, 4)\n"
     ]
    }
   ],
   "source": [
    "a = np.array([1,2,3,4]*5)\n",
    "a = a.reshape(5,4)\n",
    "print(a)\n",
    "print(a.shape)"
   ]
  },
  {
   "cell_type": "code",
   "execution_count": null,
   "metadata": {},
   "outputs": [
    {
     "data": {
      "text/plain": [
       "array([[1, 2, 3, 4],\n",
       "       [1, 2, 3, 4],\n",
       "       [1, 2, 3, 4]])"
      ]
     },
     "execution_count": 36,
     "metadata": {},
     "output_type": "execute_result"
    }
   ],
   "source": [
    "np.broadcast_to(a[0],(b.shape))"
   ]
  },
  {
   "cell_type": "code",
   "execution_count": null,
   "metadata": {},
   "outputs": [
    {
     "name": "stdout",
     "output_type": "stream",
     "text": [
      "[['a' 'b' 'c' 'd']\n",
      " ['e' 'f' 'g' 'h']\n",
      " ['i' 'l' 'm' 'n']]\n",
      "(3, 4)\n"
     ]
    }
   ],
   "source": [
    "b = np.array(('a', 'b', 'c', 'd', 'e', 'f', 'g', 'h', 'i', 'l', 'm', 'n'), dtype=object)\n",
    "b = b.reshape(3,4)\n",
    "print(b)\n",
    "print(b.shape)"
   ]
  },
  {
   "cell_type": "code",
   "execution_count": null,
   "metadata": {},
   "outputs": [
    {
     "name": "stdout",
     "output_type": "stream",
     "text": [
      "['abbcccdddd' 'effggghhhh' 'illmmmnnnn']\n",
      "----------------------------------\n",
      "['abbcccdddd' 'effggghhhh' 'illmmmnnnn']\n",
      "----------------------------------\n",
      "['abbcccdddd' 'effggghhhh' 'illmmmnnnn']\n",
      "----------------------------------\n",
      "['abbcccdddd' 'effggghhhh' 'illmmmnnnn']\n",
      "----------------------------------\n",
      "['abbcccdddd' 'effggghhhh' 'illmmmnnnn']\n",
      "----------------------------------\n"
     ]
    }
   ],
   "source": [
    "for row in range(a.shape[0]):\n",
    "    c = np.broadcast_to(a[row],(b.shape))\n",
    "    \n",
    "    c = np.multiply(c, b)\n",
    "    c = np.sum(c, axis=1)\n",
    "    print(c)\n",
    "    print('----------------------------------')"
   ]
  }
 ],
 "metadata": {
  "kernelspec": {
   "display_name": ".venv",
   "language": "python",
   "name": "python3"
  },
  "language_info": {
   "codemirror_mode": {
    "name": "ipython",
    "version": 3
   },
   "file_extension": ".py",
   "mimetype": "text/x-python",
   "name": "python",
   "nbconvert_exporter": "python",
   "pygments_lexer": "ipython3",
   "version": "3.12.1"
  }
 },
 "nbformat": 4,
 "nbformat_minor": 2
}
