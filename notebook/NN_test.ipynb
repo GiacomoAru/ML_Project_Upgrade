{
 "cells": [
  {
   "cell_type": "code",
   "execution_count": 1,
   "metadata": {},
   "outputs": [],
   "source": [
    "import sys\n",
    "import os\n",
    "import pandas as pd\n",
    "import plotly.express as px\n",
    "import ast\n",
    "from sklearn.preprocessing import StandardScaler, MinMaxScaler\n",
    "\n",
    "sys.path.append(os.path.abspath('../src/'))\n",
    "from ActivationFunction import *\n",
    "import PlotUtils\n",
    "from MatrixNeuralNetwork import *"
   ]
  },
  {
   "cell_type": "code",
   "execution_count": 2,
   "metadata": {},
   "outputs": [],
   "source": [
    "RANDOM_STATE = 310907\n",
    "\n",
    "tr_norm_df = pd.read_csv('../data/divided_std_train_0_8.csv')\n",
    "test_norm_df = pd.read_csv('../data/divided_std_test_0_2.csv')\n",
    "\n",
    "tr_df = pd.read_csv('../data/divided_train_0_8.csv')\n",
    "test_df = pd.read_csv('../data/divided_test_0_2.csv')\n",
    "\n",
    "TR_INPUT = 10\n",
    "TR_OUTPUT = 3\n",
    "\n",
    "tr_normalized = tr_norm_df.values\n",
    "test_normalized = test_norm_df.values\n",
    "training_set = tr_df.values\n",
    "test_set = test_df.values\n",
    "\n",
    "scaler_out = StandardScaler()\n",
    "scaler_out.fit(training_set[:,TR_INPUT:])\n",
    "\n",
    "training_len = len(tr_norm_df)\n",
    "test_len = len(test_norm_df)"
   ]
  },
  {
   "cell_type": "code",
   "execution_count": 3,
   "metadata": {},
   "outputs": [
    {
     "data": {
      "text/plain": [
       "(800, 13)"
      ]
     },
     "execution_count": 3,
     "metadata": {},
     "output_type": "execute_result"
    }
   ],
   "source": [
    "tr_normalized.shape"
   ]
  },
  {
   "cell_type": "code",
   "execution_count": 4,
   "metadata": {},
   "outputs": [
    {
     "name": "stdout",
     "output_type": "stream",
     "text": [
      "layer_0\n",
      "ExponentialLinearUnit : (3, 5)\n",
      "[[1. 1. 1. 1. 1.]\n",
      " [1. 1. 1. 1. 1.]\n",
      " [1. 1. 1. 1. 1.]]\n",
      "----------------------------------------------------------------------------------------------------\n",
      "layer_1\n",
      "ExponentialLinearUnit : (5, 5)\n",
      "[[1.70396911 1.81308644 1.07900086 1.46460136 1.22871116]\n",
      " [1.43378991 1.48900104 1.66435727 1.0086825  1.89593504]\n",
      " [1.80643407 1.79429515 1.57725673 1.00701088 1.44145726]\n",
      " [1.81104907 1.22822733 1.89264228 1.49618163 1.97660795]\n",
      " [1.64448865 1.47825453 1.04906616 1.51198158 1.17642728]]\n",
      "----------------------------------------------------------------------------------------------------\n",
      "layer_2\n",
      "IdentityFunction : (5, 1)\n",
      "[[1.]\n",
      " [1.]\n",
      " [1.]\n",
      " [1.]\n",
      " [1.]]\n",
      "----------------------------------------------------------------------------------------------------\n",
      "\n"
     ]
    }
   ],
   "source": [
    "complex_struct = [[10, SigmoidFunction(2), ['uniform', {'low':-1, 'high':1}]],\n",
    "          [15, RectifiedLinearUnit(), ['uniform', {'low':0, 'high':1}]],\n",
    "          [25, HyperbolicTangentFunction(4), ['uniform', {'low':-1, 'high':1}]],\n",
    "          [50, ExponentialLinearUnit(), ['uniform', {'low':0, 'high':1}]],\n",
    "          [500, SigmoidFunction(8), ['uniform', {'low':-1, 'high':1}]],\n",
    "          [3, IdentityFunction(), ['uniform', {'low':-1, 'high':1}]]]\n",
    "simple_struct = [[5, ExponentialLinearUnit(), ['uniform', {'low':1, 'high':1}]],\n",
    "          [5, ExponentialLinearUnit(), ['uniform', {'low':1, 'high':2}]],\n",
    "          [1, IdentityFunction(), ['uniform', {'low':1, 'high':1}]]]\n",
    "\n",
    "myNN = MatrixNeuralNetwork(simple_struct, 3, RANDOM_STATE)\n",
    "print(myNN)"
   ]
  },
  {
   "cell_type": "code",
   "execution_count": 5,
   "metadata": {},
   "outputs": [
    {
     "data": {
      "text/plain": [
       "array([[-0.93011778,  0.92133772, -0.79851704,  0.54897089,  0.0247565 ,\n",
       "        -1.71318817,  0.43611225,  0.64784342,  1.4003556 ,  0.24742754],\n",
       "       [-0.91383339, -0.2076762 , -0.79625988,  0.54553561,  0.57154085,\n",
       "         0.91243738,  1.1404132 ,  0.44179536, -0.54450125,  0.83479575],\n",
       "       [ 1.42879961,  0.59610576,  1.52729308,  0.39525153, -2.58729703,\n",
       "        -1.33833567, -0.31094834,  0.80801846, -0.82230069, -1.25565979]])"
      ]
     },
     "execution_count": 5,
     "metadata": {},
     "output_type": "execute_result"
    }
   ],
   "source": [
    "tr_normalized[:10, :3]"
   ]
  },
  {
   "cell_type": "code",
   "execution_count": 6,
   "metadata": {},
   "outputs": [
    {
     "ename": "ValueError",
     "evalue": "matmul: Input operand 1 has a mismatch in its core dimension 0, with gufunc signature (n?,k),(k,m?)->(n?,m?) (size 3 is different from 10)",
     "output_type": "error",
     "traceback": [
      "\u001b[0;31m---------------------------------------------------------------------------\u001b[0m",
      "\u001b[0;31mValueError\u001b[0m                                Traceback (most recent call last)",
      "Cell \u001b[0;32mIn[6], line 1\u001b[0m\n\u001b[0;32m----> 1\u001b[0m \u001b[43mmyNN\u001b[49m\u001b[38;5;241;43m.\u001b[39;49m\u001b[43mpredict\u001b[49m\u001b[43m(\u001b[49m\u001b[43mtr_normalized\u001b[49m\u001b[43m[\u001b[49m\u001b[43m:\u001b[49m\u001b[38;5;241;43m3\u001b[39;49m\u001b[43m,\u001b[49m\u001b[43m \u001b[49m\u001b[43m:\u001b[49m\u001b[38;5;241;43m10\u001b[39;49m\u001b[43m]\u001b[49m\u001b[43m)\u001b[49m\n",
      "File \u001b[0;32m~/NN_Project_Upgrade/src/MatrixNeuralNetwork.py:60\u001b[0m, in \u001b[0;36mMatrixNeuralNetwork.predict\u001b[0;34m(self, patterns)\u001b[0m\n\u001b[1;32m     57\u001b[0m tmp_values \u001b[38;5;241m=\u001b[39m patterns\n\u001b[1;32m     58\u001b[0m \u001b[38;5;28;01mfor\u001b[39;00m weights, act_fun \u001b[38;5;129;01min\u001b[39;00m \u001b[38;5;28mself\u001b[39m\u001b[38;5;241m.\u001b[39mlayers:\n\u001b[1;32m     59\u001b[0m     \u001b[38;5;66;03m# weight\u001b[39;00m\n\u001b[0;32m---> 60\u001b[0m     tmp_values \u001b[38;5;241m=\u001b[39m \u001b[43mnp\u001b[49m\u001b[38;5;241;43m.\u001b[39;49m\u001b[43mmatmul\u001b[49m\u001b[43m(\u001b[49m\u001b[43mtmp_values\u001b[49m\u001b[43m,\u001b[49m\u001b[43m \u001b[49m\u001b[43mweights\u001b[49m\u001b[43m)\u001b[49m\n\u001b[1;32m     61\u001b[0m     \u001b[38;5;66;03m# activation fun\u001b[39;00m\n\u001b[1;32m     62\u001b[0m     tmp_values \u001b[38;5;241m=\u001b[39m act_fun\u001b[38;5;241m.\u001b[39mcompute(tmp_values)\n",
      "\u001b[0;31mValueError\u001b[0m: matmul: Input operand 1 has a mismatch in its core dimension 0, with gufunc signature (n?,k),(k,m?)->(n?,m?) (size 3 is different from 10)"
     ]
    }
   ],
   "source": [
    "myNN.predict(tr_normalized[:10, :3])"
   ]
  }
 ],
 "metadata": {
  "kernelspec": {
   "display_name": ".venv",
   "language": "python",
   "name": "python3"
  },
  "language_info": {
   "codemirror_mode": {
    "name": "ipython",
    "version": 3
   },
   "file_extension": ".py",
   "mimetype": "text/x-python",
   "name": "python",
   "nbconvert_exporter": "python",
   "pygments_lexer": "ipython3",
   "version": "3.12.1"
  }
 },
 "nbformat": 4,
 "nbformat_minor": 2
}
