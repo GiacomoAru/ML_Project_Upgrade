{
 "cells": [
  {
   "cell_type": "code",
   "execution_count": 1,
   "metadata": {},
   "outputs": [],
   "source": [
    "import sys\n",
    "import os\n",
    "import pandas as pd\n",
    "import plotly.express as px\n",
    "import ast\n",
    "from sklearn.preprocessing import StandardScaler, MinMaxScaler\n",
    "\n",
    "sys.path.append(os.path.abspath('../src/'))\n",
    "from ActivationFunction import *\n",
    "import PlotUtils\n",
    "from MatrixNeuralNetwork import *"
   ]
  },
  {
   "cell_type": "code",
   "execution_count": 2,
   "metadata": {},
   "outputs": [],
   "source": [
    "RANDOM_STATE = 310907\n",
    "\n",
    "tr_norm_df = pd.read_csv('../data/divided_std_train_0_8.csv')\n",
    "test_norm_df = pd.read_csv('../data/divided_std_test_0_2.csv')\n",
    "\n",
    "tr_df = pd.read_csv('../data/divided_train_0_8.csv')\n",
    "test_df = pd.read_csv('../data/divided_test_0_2.csv')\n",
    "\n",
    "TR_INPUT = 10\n",
    "TR_OUTPUT = 3\n",
    "\n",
    "tr_normalized = tr_norm_df.values\n",
    "test_normalized = test_norm_df.values\n",
    "training_set = tr_df.values\n",
    "test_set = test_df.values\n",
    "\n",
    "scaler_out = StandardScaler()\n",
    "scaler_out.fit(training_set[:,TR_INPUT:])\n",
    "\n",
    "training_len = len(tr_norm_df)\n",
    "test_len = len(test_norm_df)"
   ]
  },
  {
   "cell_type": "code",
   "execution_count": 3,
   "metadata": {},
   "outputs": [
    {
     "data": {
      "text/plain": [
       "(800, 13)"
      ]
     },
     "execution_count": 3,
     "metadata": {},
     "output_type": "execute_result"
    }
   ],
   "source": [
    "tr_normalized.shape"
   ]
  },
  {
   "cell_type": "code",
   "execution_count": 4,
   "metadata": {},
   "outputs": [
    {
     "name": "stdout",
     "output_type": "stream",
     "text": [
      "layer_0\n",
      "ExponentialLinearUnit : (3, 5)\n",
      "[[1. 1. 1. 1. 1.]\n",
      " [1. 1. 1. 1. 1.]\n",
      " [1. 1. 1. 1. 1.]]\n",
      "----------------------------------------------------------------------------------------------------\n",
      "layer_1\n",
      "ExponentialLinearUnit : (5, 5)\n",
      "[[1.70396911 1.81308644 1.07900086 1.46460136 1.22871116]\n",
      " [1.43378991 1.48900104 1.66435727 1.0086825  1.89593504]\n",
      " [1.80643407 1.79429515 1.57725673 1.00701088 1.44145726]\n",
      " [1.81104907 1.22822733 1.89264228 1.49618163 1.97660795]\n",
      " [1.64448865 1.47825453 1.04906616 1.51198158 1.17642728]]\n",
      "----------------------------------------------------------------------------------------------------\n",
      "layer_2\n",
      "IdentityFunction : (5, 1)\n",
      "[[1.]\n",
      " [1.]\n",
      " [1.]\n",
      " [1.]\n",
      " [1.]]\n",
      "----------------------------------------------------------------------------------------------------\n",
      "\n"
     ]
    }
   ],
   "source": [
    "complex_struct = [[10, SigmoidFunction(2), ['uniform', {'low':-1, 'high':1}]],\n",
    "          [15, RectifiedLinearUnit(), ['uniform', {'low':0, 'high':1}]],\n",
    "          [25, HyperbolicTangentFunction(4), ['uniform', {'low':-1, 'high':1}]],\n",
    "          [50, ExponentialLinearUnit(), ['uniform', {'low':0, 'high':1}]],\n",
    "          [500, SigmoidFunction(8), ['uniform', {'low':-1, 'high':1}]],\n",
    "          [3, IdentityFunction(), ['uniform', {'low':-1, 'high':1}]]]\n",
    "simple_struct = [[5, ExponentialLinearUnit(), ['uniform', {'low':1, 'high':1}]],\n",
    "          [5, ExponentialLinearUnit(), ['uniform', {'low':1, 'high':2}]],\n",
    "          [1, IdentityFunction(), ['uniform', {'low':1, 'high':1}]]]\n",
    "\n",
    "myNN = MatrixNeuralNetwork(simple_struct, 3, RANDOM_STATE)\n",
    "print(myNN)"
   ]
  },
  {
   "cell_type": "code",
   "execution_count": 15,
   "metadata": {},
   "outputs": [
    {
     "data": {
      "text/plain": [
       "array([[ 0.9008453 , -1.34720733,  1.12962203, -0.27994833,  0.56496437,\n",
       "         0.93743131, -0.57698413, -1.91691909, -1.05582719,  1.31763302,\n",
       "         0.67092711, -2.15171377,  1.09496363]])"
      ]
     },
     "execution_count": 15,
     "metadata": {},
     "output_type": "execute_result"
    }
   ],
   "source": [
    "tr_normalized[[8]][:3]"
   ]
  },
  {
   "cell_type": "code",
   "execution_count": 16,
   "metadata": {},
   "outputs": [],
   "source": [
    "def circular_index(a, start, stop): \n",
    "            '''\n",
    "            start is included\n",
    "            stop is NOT included\n",
    "            '''\n",
    "            # fn to convert your start stop to a wrapped range\n",
    "            if stop<=start:\n",
    "                stop += len(a)\n",
    "            return np.arange(start, stop)%len(a)"
   ]
  },
  {
   "cell_type": "code",
   "execution_count": 31,
   "metadata": {},
   "outputs": [
    {
     "data": {
      "text/plain": [
       "800"
      ]
     },
     "execution_count": 31,
     "metadata": {},
     "output_type": "execute_result"
    }
   ],
   "source": [
    "len(tr_normalized)"
   ]
  },
  {
   "cell_type": "code",
   "execution_count": 30,
   "metadata": {},
   "outputs": [
    {
     "data": {
      "text/plain": [
       "array([[ 1.42583762,  0.85067755,  1.27668474],\n",
       "       [-0.94887093,  0.85024236, -0.7990482 ],\n",
       "       [-0.84677264, -1.19199602, -0.73974572],\n",
       "       [ 0.9008453 , -1.34720733,  1.12962203],\n",
       "       [ 0.98870128, -1.33901788,  1.51646761]])"
      ]
     },
     "execution_count": 30,
     "metadata": {},
     "output_type": "execute_result"
    }
   ],
   "source": []
  },
  {
   "cell_type": "code",
   "execution_count": 44,
   "metadata": {},
   "outputs": [
    {
     "name": "stdout",
     "output_type": "stream",
     "text": [
      "--- 4.591940879821777 seconds ---\n",
      "--- 0.537449836730957 seconds ---\n"
     ]
    }
   ],
   "source": [
    "import time\n",
    "start_time = time.time()\n",
    "\n",
    "k = 0\n",
    "step = 33\n",
    "tot_len = 800\n",
    "for i in range(1000000):\n",
    "    a = tr_normalized[circular_index(tr_normalized, k, (k+step)%tot_len)][:,:10]\n",
    "    k = (k+step)%tot_len\n",
    "\n",
    "print(\"--- %s seconds ---\" % (time.time() - start_time))\n",
    "\n",
    "start_time = time.time()\n",
    "for i in range(1000000):\n",
    "    high = max(k+step, (k+step)%tot_len)\n",
    "    a = tr_normalized[k:high,:10]\n",
    "    k = (k+step)%tot_len\n",
    "\n",
    "print(\"--- %s seconds ---\" % (time.time() - start_time))"
   ]
  },
  {
   "cell_type": "code",
   "execution_count": 6,
   "metadata": {},
   "outputs": [
    {
     "data": {
      "text/plain": [
       "array([[ -4.91791387],\n",
       "       [ -4.99057537],\n",
       "       [133.82025028],\n",
       "       [ -2.76932294],\n",
       "       [ 33.75574801],\n",
       "       [133.85797797],\n",
       "       [ -4.93802718],\n",
       "       [ -4.99486238],\n",
       "       [ 25.74012277],\n",
       "       [ 43.93184144]])"
      ]
     },
     "execution_count": 6,
     "metadata": {},
     "output_type": "execute_result"
    }
   ],
   "source": [
    "myNN.predict(tr_normalized[:10, :3])"
   ]
  }
 ],
 "metadata": {
  "kernelspec": {
   "display_name": ".venv",
   "language": "python",
   "name": "python3"
  },
  "language_info": {
   "codemirror_mode": {
    "name": "ipython",
    "version": 3
   },
   "file_extension": ".py",
   "mimetype": "text/x-python",
   "name": "python",
   "nbconvert_exporter": "python",
   "pygments_lexer": "ipython3",
   "version": "3.12.1"
  }
 },
 "nbformat": 4,
 "nbformat_minor": 2
}
