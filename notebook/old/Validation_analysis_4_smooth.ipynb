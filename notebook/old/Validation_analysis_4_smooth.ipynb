{
 "cells": [
  {
   "cell_type": "code",
   "execution_count": 1,
   "metadata": {},
   "outputs": [],
   "source": [
    "import matplotlib.pyplot as plt\n",
    "import sys\n",
    "import os\n",
    "import pandas as pd\n",
    "import plotly.express as px\n",
    "from sklearn.preprocessing import MinMaxScaler, StandardScaler\n",
    "import ast\n",
    "\n",
    "sys.path.append(os.path.abspath('../src/'))\n",
    "from ActivationFunctions import *\n",
    "from NeuralNetwork import *\n",
    "from MyUtils import *\n",
    "from ModelSelection import *\n",
    "\n",
    "\n",
    "%matplotlib inline"
   ]
  },
  {
   "cell_type": "code",
   "execution_count": 2,
   "metadata": {},
   "outputs": [],
   "source": [
    "tr_norm_df = pd.read_csv('../data/divided_std_train_0_8.csv')\n",
    "test_norm_df = pd.read_csv('../data/divided_std_test_0_2.csv')\n",
    "\n",
    "tr_df = pd.read_csv('../data/divided_train_0_8.csv')\n",
    "test_df = pd.read_csv('../data/divided_test_0_2.csv')\n",
    "\n",
    "TR_INPUT = 10\n",
    "TR_OUTPUT = 3\n",
    "\n",
    "tr_normalized = tr_norm_df.values\n",
    "test_normalized = test_norm_df.values\n",
    "training_set = tr_df.values\n",
    "test_set = test_df.values\n",
    "\n",
    "scaler_out = StandardScaler()\n",
    "scaler_out.fit(training_set[:,TR_INPUT:])\n",
    "\n",
    "training_len = len(tr_norm_df)\n",
    "test_len = len(test_norm_df)"
   ]
  },
  {
   "cell_type": "code",
   "execution_count": 4,
   "metadata": {},
   "outputs": [],
   "source": [
    "def load_obj(path):    \n",
    "    with open(path, 'r') as file:\n",
    "        ret = json.load(file)\n",
    "    for el in ret:\n",
    "        with open(el['nn_file_name'], 'r') as file:\n",
    "                el['model'] = NeuralNetwork.fromJSON(file.read())\n",
    "    return ret\n",
    "            \n",
    "def save_obj(obj, path):\n",
    "    for i in obj:\n",
    "        with open(i['nn_file_name'], 'w+') as file:\n",
    "            file.write(i['model'].toJSON())\n",
    "        i['model'] = None\n",
    "    json.dump(obj, path, default=str)"
   ]
  },
  {
   "cell_type": "code",
   "execution_count": 5,
   "metadata": {},
   "outputs": [],
   "source": [
    "def remove_useless_val(x):\n",
    "    a =['learning_rate', 'lr_decay_tau', 'alpha_momentum']\n",
    "    b =['adamax_learning_rate', 'exp_decay_rate_1', 'exp_decay_rate_2']\n",
    "    if x['adamax']:\n",
    "        for i in a:\n",
    "            if i in x.keys():\n",
    "                x[i] = None\n",
    "    else:\n",
    "        for i in b:\n",
    "            if i in x.keys():\n",
    "                x[i] = None   \n",
    "    return x"
   ]
  },
  {
   "cell_type": "code",
   "execution_count": 6,
   "metadata": {},
   "outputs": [],
   "source": [
    "columns_order = ['topology', 'stats',\n",
    " 'batch_size',\n",
    " 'min_epochs',\n",
    " 'max_epochs',\n",
    " 'patience',\n",
    " 'error_increase_tolerance',\n",
    " 'lambda_tikhonov',\n",
    " \n",
    " 'learning_rate',\n",
    " 'alpha_momentum',\n",
    " 'lr_decay_tau',\n",
    " \n",
    " 'adamax',\n",
    " 'adamax_learning_rate',\n",
    " 'exp_decay_rate_1',\n",
    " 'exp_decay_rate_2',\n",
    " \n",
    " 'mean_mean_euclidean_error',\n",
    " 'mean_mean_squared_error',\n",
    " 'var_mean_euclidean_error',\n",
    " 'var_mean_squared_error',\n",
    " 'mean_best_validation_training_error']"
   ]
  },
  {
   "cell_type": "code",
   "execution_count": 7,
   "metadata": {},
   "outputs": [
    {
     "data": {
      "text/html": [
       "<div>\n",
       "<style scoped>\n",
       "    .dataframe tbody tr th:only-of-type {\n",
       "        vertical-align: middle;\n",
       "    }\n",
       "\n",
       "    .dataframe tbody tr th {\n",
       "        vertical-align: top;\n",
       "    }\n",
       "\n",
       "    .dataframe thead th {\n",
       "        text-align: right;\n",
       "    }\n",
       "</style>\n",
       "<table border=\"1\" class=\"dataframe\">\n",
       "  <thead>\n",
       "    <tr style=\"text-align: right;\">\n",
       "      <th></th>\n",
       "      <th>adamax</th>\n",
       "      <th>alpha_momentum</th>\n",
       "      <th>batch_size</th>\n",
       "      <th>error_increase_tolerance</th>\n",
       "      <th>lambda_tikhonov</th>\n",
       "      <th>learning_rate</th>\n",
       "      <th>lr_decay_tau</th>\n",
       "      <th>max_epochs</th>\n",
       "      <th>min_epochs</th>\n",
       "      <th>patience</th>\n",
       "      <th>topology</th>\n",
       "      <th>stats</th>\n",
       "      <th>mean_mean_euclidean_error</th>\n",
       "      <th>mean_mean_squared_error</th>\n",
       "      <th>var_mean_euclidean_error</th>\n",
       "      <th>var_mean_squared_error</th>\n",
       "      <th>mean_best_validation_training_error</th>\n",
       "    </tr>\n",
       "  </thead>\n",
       "  <tbody>\n",
       "    <tr>\n",
       "      <th>0</th>\n",
       "      <td>False</td>\n",
       "      <td>0.75</td>\n",
       "      <td>10</td>\n",
       "      <td>0.00001</td>\n",
       "      <td>0.000001</td>\n",
       "      <td>0.001</td>\n",
       "      <td>250</td>\n",
       "      <td>400</td>\n",
       "      <td>100</td>\n",
       "      <td>5</td>\n",
       "      <td>32_sigmoid</td>\n",
       "      <td>{'min_epochs': 100, 'lambda_tikhonov': 1e-06, ...</td>\n",
       "      <td>0.297037</td>\n",
       "      <td>0.118063</td>\n",
       "      <td>0.000083</td>\n",
       "      <td>0.000043</td>\n",
       "      <td>0.113909</td>\n",
       "    </tr>\n",
       "  </tbody>\n",
       "</table>\n",
       "</div>"
      ],
      "text/plain": [
       "   adamax  alpha_momentum  batch_size  error_increase_tolerance  \\\n",
       "0   False            0.75          10                   0.00001   \n",
       "\n",
       "   lambda_tikhonov  learning_rate  lr_decay_tau  max_epochs  min_epochs  \\\n",
       "0         0.000001          0.001           250         400         100   \n",
       "\n",
       "   patience    topology                                              stats  \\\n",
       "0         5  32_sigmoid  {'min_epochs': 100, 'lambda_tikhonov': 1e-06, ...   \n",
       "\n",
       "   mean_mean_euclidean_error  mean_mean_squared_error  \\\n",
       "0                   0.297037                 0.118063   \n",
       "\n",
       "   var_mean_euclidean_error  var_mean_squared_error  \\\n",
       "0                  0.000083                0.000043   \n",
       "\n",
       "   mean_best_validation_training_error  \n",
       "0                             0.113909  "
      ]
     },
     "execution_count": 7,
     "metadata": {},
     "output_type": "execute_result"
    }
   ],
   "source": [
    "results_files = ['1l_sigmoid_4_smooth.csv']\n",
    "topologies = ['32_sigmoid']\n",
    "folder = '../data/gs_data/'\n",
    "topologies_dict = {}\n",
    "gs_results = []\n",
    "for i, f in enumerate(results_files):\n",
    "    if os.path.isfile(folder+ f):\n",
    "        dummy = pd.read_csv(folder + f)\n",
    "        topologies_dict[topologies[i]] = ast.literal_eval(dummy['topology'][0])\n",
    "        dummy['topology'] = topologies[i]\n",
    "        \n",
    "        gs_results.append(dummy)\n",
    "    \n",
    "\n",
    "\n",
    "orig_df = pd.concat(gs_results)\n",
    "orig_df.head(1)"
   ]
  },
  {
   "cell_type": "code",
   "execution_count": 8,
   "metadata": {},
   "outputs": [],
   "source": [
    "columns_order = [x for x in columns_order if x in orig_df.columns]\n",
    "orig_df = orig_df[columns_order]\n",
    "\n",
    "order_by = 'mean_mean_euclidean_error'\n",
    "orig_df.sort_values(by=[order_by], inplace=True)\n",
    "orig_df = orig_df.reset_index(drop=True)\n",
    "gs_results = orig_df.drop(['stats'], axis=1)"
   ]
  },
  {
   "cell_type": "code",
   "execution_count": 9,
   "metadata": {},
   "outputs": [],
   "source": [
    "gs_results = gs_results.apply(remove_useless_val, axis=1)\n",
    "for i in gs_results.columns[1:]:\n",
    "    gs_results[i] = gs_results[i].astype(float)"
   ]
  },
  {
   "cell_type": "code",
   "execution_count": 10,
   "metadata": {},
   "outputs": [],
   "source": [
    "numerical_col = list(gs_results.columns)\n",
    "numerical_col.remove('topology')\n",
    "st_opt_col = ['learning_rate','lr_decay_tau','alpha_momentum']\n",
    "adamax_opt_col = ['adamax','adamax_learning_rate','exp_decay_rate_1','exp_decay_rate_2']\n",
    "metrics_col = [x for x in gs_results.columns if x.startswith(('var', 'mean'))]\n",
    "general_col = [item for item in list(gs_results.columns) if item not in st_opt_col and item not in metrics_col and item not in adamax_opt_col]\n",
    "tr_input_col = [item for item in list(gs_results.columns) if item not in metrics_col]"
   ]
  },
  {
   "cell_type": "code",
   "execution_count": 11,
   "metadata": {},
   "outputs": [
    {
     "data": {
      "text/html": [
       "<style type=\"text/css\">\n",
       "#T_a55dd_row0_col1, #T_a55dd_row0_col2, #T_a55dd_row0_col3, #T_a55dd_row0_col4, #T_a55dd_row0_col5, #T_a55dd_row0_col6, #T_a55dd_row0_col8, #T_a55dd_row0_col10, #T_a55dd_row0_col11, #T_a55dd_row0_col12, #T_a55dd_row0_col14, #T_a55dd_row0_col15, #T_a55dd_row1_col1, #T_a55dd_row1_col2, #T_a55dd_row1_col3, #T_a55dd_row1_col4, #T_a55dd_row1_col5, #T_a55dd_row1_col6, #T_a55dd_row1_col8, #T_a55dd_row1_col9, #T_a55dd_row1_col10, #T_a55dd_row2_col1, #T_a55dd_row2_col2, #T_a55dd_row2_col3, #T_a55dd_row2_col4, #T_a55dd_row2_col5, #T_a55dd_row2_col6, #T_a55dd_row2_col8, #T_a55dd_row2_col10, #T_a55dd_row3_col1, #T_a55dd_row3_col2, #T_a55dd_row3_col3, #T_a55dd_row3_col4, #T_a55dd_row3_col5, #T_a55dd_row3_col6, #T_a55dd_row3_col8, #T_a55dd_row3_col9, #T_a55dd_row3_col10, #T_a55dd_row4_col1, #T_a55dd_row4_col2, #T_a55dd_row4_col3, #T_a55dd_row4_col4, #T_a55dd_row4_col5, #T_a55dd_row4_col6, #T_a55dd_row4_col8, #T_a55dd_row4_col10, #T_a55dd_row5_col1, #T_a55dd_row5_col2, #T_a55dd_row5_col3, #T_a55dd_row5_col4, #T_a55dd_row5_col5, #T_a55dd_row5_col6, #T_a55dd_row5_col8, #T_a55dd_row5_col9, #T_a55dd_row5_col10, #T_a55dd_row6_col1, #T_a55dd_row6_col2, #T_a55dd_row6_col3, #T_a55dd_row6_col4, #T_a55dd_row6_col5, #T_a55dd_row6_col6, #T_a55dd_row6_col7, #T_a55dd_row6_col8, #T_a55dd_row6_col10, #T_a55dd_row6_col13, #T_a55dd_row7_col1, #T_a55dd_row7_col2, #T_a55dd_row7_col3, #T_a55dd_row7_col4, #T_a55dd_row7_col5, #T_a55dd_row7_col6, #T_a55dd_row7_col7, #T_a55dd_row7_col8, #T_a55dd_row7_col9, #T_a55dd_row7_col10 {\n",
       "  background-color: #f7fbff;\n",
       "  color: #000000;\n",
       "}\n",
       "#T_a55dd_row0_col7, #T_a55dd_row0_col9, #T_a55dd_row1_col7, #T_a55dd_row2_col9, #T_a55dd_row4_col9, #T_a55dd_row4_col13, #T_a55dd_row4_col14, #T_a55dd_row6_col9, #T_a55dd_row7_col11, #T_a55dd_row7_col12, #T_a55dd_row7_col15 {\n",
       "  background-color: #08306b;\n",
       "  color: #f1f1f1;\n",
       "}\n",
       "#T_a55dd_row0_col13 {\n",
       "  background-color: #caddf0;\n",
       "  color: #000000;\n",
       "}\n",
       "#T_a55dd_row1_col11 {\n",
       "  background-color: #b4d3e9;\n",
       "  color: #000000;\n",
       "}\n",
       "#T_a55dd_row1_col12 {\n",
       "  background-color: #bdd7ec;\n",
       "  color: #000000;\n",
       "}\n",
       "#T_a55dd_row1_col13 {\n",
       "  background-color: #dce9f6;\n",
       "  color: #000000;\n",
       "}\n",
       "#T_a55dd_row1_col14 {\n",
       "  background-color: #eff6fc;\n",
       "  color: #000000;\n",
       "}\n",
       "#T_a55dd_row1_col15 {\n",
       "  background-color: #bfd8ed;\n",
       "  color: #000000;\n",
       "}\n",
       "#T_a55dd_row2_col7, #T_a55dd_row3_col7 {\n",
       "  background-color: #abd0e6;\n",
       "  color: #000000;\n",
       "}\n",
       "#T_a55dd_row2_col11, #T_a55dd_row5_col13 {\n",
       "  background-color: #539ecd;\n",
       "  color: #f1f1f1;\n",
       "}\n",
       "#T_a55dd_row2_col12 {\n",
       "  background-color: #519ccc;\n",
       "  color: #f1f1f1;\n",
       "}\n",
       "#T_a55dd_row2_col13 {\n",
       "  background-color: #cee0f2;\n",
       "  color: #000000;\n",
       "}\n",
       "#T_a55dd_row2_col14 {\n",
       "  background-color: #63a8d3;\n",
       "  color: #f1f1f1;\n",
       "}\n",
       "#T_a55dd_row2_col15 {\n",
       "  background-color: #4e9acb;\n",
       "  color: #f1f1f1;\n",
       "}\n",
       "#T_a55dd_row3_col11 {\n",
       "  background-color: #4594c7;\n",
       "  color: #f1f1f1;\n",
       "}\n",
       "#T_a55dd_row3_col12 {\n",
       "  background-color: #3e8ec4;\n",
       "  color: #f1f1f1;\n",
       "}\n",
       "#T_a55dd_row3_col13 {\n",
       "  background-color: #e8f1fa;\n",
       "  color: #000000;\n",
       "}\n",
       "#T_a55dd_row3_col14 {\n",
       "  background-color: #b9d6ea;\n",
       "  color: #000000;\n",
       "}\n",
       "#T_a55dd_row3_col15 {\n",
       "  background-color: #3d8dc4;\n",
       "  color: #f1f1f1;\n",
       "}\n",
       "#T_a55dd_row4_col7, #T_a55dd_row5_col7 {\n",
       "  background-color: #e1edf8;\n",
       "  color: #000000;\n",
       "}\n",
       "#T_a55dd_row4_col11, #T_a55dd_row4_col15 {\n",
       "  background-color: #2c7cba;\n",
       "  color: #f1f1f1;\n",
       "}\n",
       "#T_a55dd_row4_col12 {\n",
       "  background-color: #2474b7;\n",
       "  color: #f1f1f1;\n",
       "}\n",
       "#T_a55dd_row5_col11 {\n",
       "  background-color: #2070b4;\n",
       "  color: #f1f1f1;\n",
       "}\n",
       "#T_a55dd_row5_col12 {\n",
       "  background-color: #1f6eb3;\n",
       "  color: #f1f1f1;\n",
       "}\n",
       "#T_a55dd_row5_col14 {\n",
       "  background-color: #8abfdd;\n",
       "  color: #000000;\n",
       "}\n",
       "#T_a55dd_row5_col15 {\n",
       "  background-color: #1e6db2;\n",
       "  color: #f1f1f1;\n",
       "}\n",
       "#T_a55dd_row6_col11 {\n",
       "  background-color: #084a91;\n",
       "  color: #f1f1f1;\n",
       "}\n",
       "#T_a55dd_row6_col12 {\n",
       "  background-color: #08488e;\n",
       "  color: #f1f1f1;\n",
       "}\n",
       "#T_a55dd_row6_col14 {\n",
       "  background-color: #ebf3fb;\n",
       "  color: #000000;\n",
       "}\n",
       "#T_a55dd_row6_col15 {\n",
       "  background-color: #084b93;\n",
       "  color: #f1f1f1;\n",
       "}\n",
       "#T_a55dd_row7_col13 {\n",
       "  background-color: #d3e4f3;\n",
       "  color: #000000;\n",
       "}\n",
       "#T_a55dd_row7_col14 {\n",
       "  background-color: #e3eef8;\n",
       "  color: #000000;\n",
       "}\n",
       "</style>\n",
       "<table id=\"T_a55dd\">\n",
       "  <thead>\n",
       "    <tr>\n",
       "      <th class=\"blank level0\" >&nbsp;</th>\n",
       "      <th id=\"T_a55dd_level0_col0\" class=\"col_heading level0 col0\" >topology</th>\n",
       "      <th id=\"T_a55dd_level0_col1\" class=\"col_heading level0 col1\" >batch_size</th>\n",
       "      <th id=\"T_a55dd_level0_col2\" class=\"col_heading level0 col2\" >min_epochs</th>\n",
       "      <th id=\"T_a55dd_level0_col3\" class=\"col_heading level0 col3\" >max_epochs</th>\n",
       "      <th id=\"T_a55dd_level0_col4\" class=\"col_heading level0 col4\" >patience</th>\n",
       "      <th id=\"T_a55dd_level0_col5\" class=\"col_heading level0 col5\" >error_increase_tolerance</th>\n",
       "      <th id=\"T_a55dd_level0_col6\" class=\"col_heading level0 col6\" >lambda_tikhonov</th>\n",
       "      <th id=\"T_a55dd_level0_col7\" class=\"col_heading level0 col7\" >learning_rate</th>\n",
       "      <th id=\"T_a55dd_level0_col8\" class=\"col_heading level0 col8\" >alpha_momentum</th>\n",
       "      <th id=\"T_a55dd_level0_col9\" class=\"col_heading level0 col9\" >lr_decay_tau</th>\n",
       "      <th id=\"T_a55dd_level0_col10\" class=\"col_heading level0 col10\" >adamax</th>\n",
       "      <th id=\"T_a55dd_level0_col11\" class=\"col_heading level0 col11\" >mean_mean_euclidean_error</th>\n",
       "      <th id=\"T_a55dd_level0_col12\" class=\"col_heading level0 col12\" >mean_mean_squared_error</th>\n",
       "      <th id=\"T_a55dd_level0_col13\" class=\"col_heading level0 col13\" >var_mean_euclidean_error</th>\n",
       "      <th id=\"T_a55dd_level0_col14\" class=\"col_heading level0 col14\" >var_mean_squared_error</th>\n",
       "      <th id=\"T_a55dd_level0_col15\" class=\"col_heading level0 col15\" >mean_best_validation_training_error</th>\n",
       "    </tr>\n",
       "  </thead>\n",
       "  <tbody>\n",
       "    <tr>\n",
       "      <th id=\"T_a55dd_level0_row0\" class=\"row_heading level0 row0\" >0</th>\n",
       "      <td id=\"T_a55dd_row0_col0\" class=\"data row0 col0\" >32_sigmoid</td>\n",
       "      <td id=\"T_a55dd_row0_col1\" class=\"data row0 col1\" >10.000000</td>\n",
       "      <td id=\"T_a55dd_row0_col2\" class=\"data row0 col2\" >100.000000</td>\n",
       "      <td id=\"T_a55dd_row0_col3\" class=\"data row0 col3\" >400.000000</td>\n",
       "      <td id=\"T_a55dd_row0_col4\" class=\"data row0 col4\" >5.000000</td>\n",
       "      <td id=\"T_a55dd_row0_col5\" class=\"data row0 col5\" >0.000010</td>\n",
       "      <td id=\"T_a55dd_row0_col6\" class=\"data row0 col6\" >0.000001</td>\n",
       "      <td id=\"T_a55dd_row0_col7\" class=\"data row0 col7\" >0.005000</td>\n",
       "      <td id=\"T_a55dd_row0_col8\" class=\"data row0 col8\" >0.750000</td>\n",
       "      <td id=\"T_a55dd_row0_col9\" class=\"data row0 col9\" >300.000000</td>\n",
       "      <td id=\"T_a55dd_row0_col10\" class=\"data row0 col10\" >0.000000</td>\n",
       "      <td id=\"T_a55dd_row0_col11\" class=\"data row0 col11\" >0.240853</td>\n",
       "      <td id=\"T_a55dd_row0_col12\" class=\"data row0 col12\" >0.076503</td>\n",
       "      <td id=\"T_a55dd_row0_col13\" class=\"data row0 col13\" >0.000039</td>\n",
       "      <td id=\"T_a55dd_row0_col14\" class=\"data row0 col14\" >0.000016</td>\n",
       "      <td id=\"T_a55dd_row0_col15\" class=\"data row0 col15\" >0.071470</td>\n",
       "    </tr>\n",
       "    <tr>\n",
       "      <th id=\"T_a55dd_level0_row1\" class=\"row_heading level0 row1\" >1</th>\n",
       "      <td id=\"T_a55dd_row1_col0\" class=\"data row1 col0\" >32_sigmoid</td>\n",
       "      <td id=\"T_a55dd_row1_col1\" class=\"data row1 col1\" >10.000000</td>\n",
       "      <td id=\"T_a55dd_row1_col2\" class=\"data row1 col2\" >100.000000</td>\n",
       "      <td id=\"T_a55dd_row1_col3\" class=\"data row1 col3\" >400.000000</td>\n",
       "      <td id=\"T_a55dd_row1_col4\" class=\"data row1 col4\" >5.000000</td>\n",
       "      <td id=\"T_a55dd_row1_col5\" class=\"data row1 col5\" >0.000010</td>\n",
       "      <td id=\"T_a55dd_row1_col6\" class=\"data row1 col6\" >0.000001</td>\n",
       "      <td id=\"T_a55dd_row1_col7\" class=\"data row1 col7\" >0.005000</td>\n",
       "      <td id=\"T_a55dd_row1_col8\" class=\"data row1 col8\" >0.750000</td>\n",
       "      <td id=\"T_a55dd_row1_col9\" class=\"data row1 col9\" >250.000000</td>\n",
       "      <td id=\"T_a55dd_row1_col10\" class=\"data row1 col10\" >0.000000</td>\n",
       "      <td id=\"T_a55dd_row1_col11\" class=\"data row1 col11\" >0.263758</td>\n",
       "      <td id=\"T_a55dd_row1_col12\" class=\"data row1 col12\" >0.091766</td>\n",
       "      <td id=\"T_a55dd_row1_col13\" class=\"data row1 col13\" >0.000027</td>\n",
       "      <td id=\"T_a55dd_row1_col14\" class=\"data row1 col14\" >0.000018</td>\n",
       "      <td id=\"T_a55dd_row1_col15\" class=\"data row1 col15\" >0.086637</td>\n",
       "    </tr>\n",
       "    <tr>\n",
       "      <th id=\"T_a55dd_level0_row2\" class=\"row_heading level0 row2\" >2</th>\n",
       "      <td id=\"T_a55dd_row2_col0\" class=\"data row2 col0\" >32_sigmoid</td>\n",
       "      <td id=\"T_a55dd_row2_col1\" class=\"data row2 col1\" >10.000000</td>\n",
       "      <td id=\"T_a55dd_row2_col2\" class=\"data row2 col2\" >100.000000</td>\n",
       "      <td id=\"T_a55dd_row2_col3\" class=\"data row2 col3\" >400.000000</td>\n",
       "      <td id=\"T_a55dd_row2_col4\" class=\"data row2 col4\" >5.000000</td>\n",
       "      <td id=\"T_a55dd_row2_col5\" class=\"data row2 col5\" >0.000010</td>\n",
       "      <td id=\"T_a55dd_row2_col6\" class=\"data row2 col6\" >0.000001</td>\n",
       "      <td id=\"T_a55dd_row2_col7\" class=\"data row2 col7\" >0.002000</td>\n",
       "      <td id=\"T_a55dd_row2_col8\" class=\"data row2 col8\" >0.750000</td>\n",
       "      <td id=\"T_a55dd_row2_col9\" class=\"data row2 col9\" >300.000000</td>\n",
       "      <td id=\"T_a55dd_row2_col10\" class=\"data row2 col10\" >0.000000</td>\n",
       "      <td id=\"T_a55dd_row2_col11\" class=\"data row2 col11\" >0.283531</td>\n",
       "      <td id=\"T_a55dd_row2_col12\" class=\"data row2 col12\" >0.108130</td>\n",
       "      <td id=\"T_a55dd_row2_col13\" class=\"data row2 col13\" >0.000036</td>\n",
       "      <td id=\"T_a55dd_row2_col14\" class=\"data row2 col14\" >0.000049</td>\n",
       "      <td id=\"T_a55dd_row2_col15\" class=\"data row2 col15\" >0.104046</td>\n",
       "    </tr>\n",
       "    <tr>\n",
       "      <th id=\"T_a55dd_level0_row3\" class=\"row_heading level0 row3\" >3</th>\n",
       "      <td id=\"T_a55dd_row3_col0\" class=\"data row3 col0\" >32_sigmoid</td>\n",
       "      <td id=\"T_a55dd_row3_col1\" class=\"data row3 col1\" >10.000000</td>\n",
       "      <td id=\"T_a55dd_row3_col2\" class=\"data row3 col2\" >100.000000</td>\n",
       "      <td id=\"T_a55dd_row3_col3\" class=\"data row3 col3\" >400.000000</td>\n",
       "      <td id=\"T_a55dd_row3_col4\" class=\"data row3 col4\" >5.000000</td>\n",
       "      <td id=\"T_a55dd_row3_col5\" class=\"data row3 col5\" >0.000010</td>\n",
       "      <td id=\"T_a55dd_row3_col6\" class=\"data row3 col6\" >0.000001</td>\n",
       "      <td id=\"T_a55dd_row3_col7\" class=\"data row3 col7\" >0.002000</td>\n",
       "      <td id=\"T_a55dd_row3_col8\" class=\"data row3 col8\" >0.750000</td>\n",
       "      <td id=\"T_a55dd_row3_col9\" class=\"data row3 col9\" >250.000000</td>\n",
       "      <td id=\"T_a55dd_row3_col10\" class=\"data row3 col10\" >0.000000</td>\n",
       "      <td id=\"T_a55dd_row3_col11\" class=\"data row3 col11\" >0.286752</td>\n",
       "      <td id=\"T_a55dd_row3_col12\" class=\"data row3 col12\" >0.111395</td>\n",
       "      <td id=\"T_a55dd_row3_col13\" class=\"data row3 col13\" >0.000019</td>\n",
       "      <td id=\"T_a55dd_row3_col14\" class=\"data row3 col14\" >0.000034</td>\n",
       "      <td id=\"T_a55dd_row3_col15\" class=\"data row3 col15\" >0.107221</td>\n",
       "    </tr>\n",
       "    <tr>\n",
       "      <th id=\"T_a55dd_level0_row4\" class=\"row_heading level0 row4\" >4</th>\n",
       "      <td id=\"T_a55dd_row4_col0\" class=\"data row4 col0\" >32_sigmoid</td>\n",
       "      <td id=\"T_a55dd_row4_col1\" class=\"data row4 col1\" >10.000000</td>\n",
       "      <td id=\"T_a55dd_row4_col2\" class=\"data row4 col2\" >100.000000</td>\n",
       "      <td id=\"T_a55dd_row4_col3\" class=\"data row4 col3\" >400.000000</td>\n",
       "      <td id=\"T_a55dd_row4_col4\" class=\"data row4 col4\" >5.000000</td>\n",
       "      <td id=\"T_a55dd_row4_col5\" class=\"data row4 col5\" >0.000010</td>\n",
       "      <td id=\"T_a55dd_row4_col6\" class=\"data row4 col6\" >0.000001</td>\n",
       "      <td id=\"T_a55dd_row4_col7\" class=\"data row4 col7\" >0.001000</td>\n",
       "      <td id=\"T_a55dd_row4_col8\" class=\"data row4 col8\" >0.750000</td>\n",
       "      <td id=\"T_a55dd_row4_col9\" class=\"data row4 col9\" >300.000000</td>\n",
       "      <td id=\"T_a55dd_row4_col10\" class=\"data row4 col10\" >0.000000</td>\n",
       "      <td id=\"T_a55dd_row4_col11\" class=\"data row4 col11\" >0.293778</td>\n",
       "      <td id=\"T_a55dd_row4_col12\" class=\"data row4 col12\" >0.116790</td>\n",
       "      <td id=\"T_a55dd_row4_col13\" class=\"data row4 col13\" >0.000138</td>\n",
       "      <td id=\"T_a55dd_row4_col14\" class=\"data row4 col14\" >0.000079</td>\n",
       "      <td id=\"T_a55dd_row4_col15\" class=\"data row4 col15\" >0.110918</td>\n",
       "    </tr>\n",
       "    <tr>\n",
       "      <th id=\"T_a55dd_level0_row5\" class=\"row_heading level0 row5\" >5</th>\n",
       "      <td id=\"T_a55dd_row5_col0\" class=\"data row5 col0\" >32_sigmoid</td>\n",
       "      <td id=\"T_a55dd_row5_col1\" class=\"data row5 col1\" >10.000000</td>\n",
       "      <td id=\"T_a55dd_row5_col2\" class=\"data row5 col2\" >100.000000</td>\n",
       "      <td id=\"T_a55dd_row5_col3\" class=\"data row5 col3\" >400.000000</td>\n",
       "      <td id=\"T_a55dd_row5_col4\" class=\"data row5 col4\" >5.000000</td>\n",
       "      <td id=\"T_a55dd_row5_col5\" class=\"data row5 col5\" >0.000010</td>\n",
       "      <td id=\"T_a55dd_row5_col6\" class=\"data row5 col6\" >0.000001</td>\n",
       "      <td id=\"T_a55dd_row5_col7\" class=\"data row5 col7\" >0.001000</td>\n",
       "      <td id=\"T_a55dd_row5_col8\" class=\"data row5 col8\" >0.750000</td>\n",
       "      <td id=\"T_a55dd_row5_col9\" class=\"data row5 col9\" >250.000000</td>\n",
       "      <td id=\"T_a55dd_row5_col10\" class=\"data row5 col10\" >0.000000</td>\n",
       "      <td id=\"T_a55dd_row5_col11\" class=\"data row5 col11\" >0.297037</td>\n",
       "      <td id=\"T_a55dd_row5_col12\" class=\"data row5 col12\" >0.118063</td>\n",
       "      <td id=\"T_a55dd_row5_col13\" class=\"data row5 col13\" >0.000083</td>\n",
       "      <td id=\"T_a55dd_row5_col14\" class=\"data row5 col14\" >0.000043</td>\n",
       "      <td id=\"T_a55dd_row5_col15\" class=\"data row5 col15\" >0.113909</td>\n",
       "    </tr>\n",
       "    <tr>\n",
       "      <th id=\"T_a55dd_level0_row6\" class=\"row_heading level0 row6\" >6</th>\n",
       "      <td id=\"T_a55dd_row6_col0\" class=\"data row6 col0\" >32_sigmoid</td>\n",
       "      <td id=\"T_a55dd_row6_col1\" class=\"data row6 col1\" >10.000000</td>\n",
       "      <td id=\"T_a55dd_row6_col2\" class=\"data row6 col2\" >100.000000</td>\n",
       "      <td id=\"T_a55dd_row6_col3\" class=\"data row6 col3\" >400.000000</td>\n",
       "      <td id=\"T_a55dd_row6_col4\" class=\"data row6 col4\" >5.000000</td>\n",
       "      <td id=\"T_a55dd_row6_col5\" class=\"data row6 col5\" >0.000010</td>\n",
       "      <td id=\"T_a55dd_row6_col6\" class=\"data row6 col6\" >0.000001</td>\n",
       "      <td id=\"T_a55dd_row6_col7\" class=\"data row6 col7\" >0.000500</td>\n",
       "      <td id=\"T_a55dd_row6_col8\" class=\"data row6 col8\" >0.750000</td>\n",
       "      <td id=\"T_a55dd_row6_col9\" class=\"data row6 col9\" >300.000000</td>\n",
       "      <td id=\"T_a55dd_row6_col10\" class=\"data row6 col10\" >0.000000</td>\n",
       "      <td id=\"T_a55dd_row6_col11\" class=\"data row6 col11\" >0.308185</td>\n",
       "      <td id=\"T_a55dd_row6_col12\" class=\"data row6 col12\" >0.126131</td>\n",
       "      <td id=\"T_a55dd_row6_col13\" class=\"data row6 col13\" >0.000009</td>\n",
       "      <td id=\"T_a55dd_row6_col14\" class=\"data row6 col14\" >0.000020</td>\n",
       "      <td id=\"T_a55dd_row6_col15\" class=\"data row6 col15\" >0.121316</td>\n",
       "    </tr>\n",
       "    <tr>\n",
       "      <th id=\"T_a55dd_level0_row7\" class=\"row_heading level0 row7\" >7</th>\n",
       "      <td id=\"T_a55dd_row7_col0\" class=\"data row7 col0\" >32_sigmoid</td>\n",
       "      <td id=\"T_a55dd_row7_col1\" class=\"data row7 col1\" >10.000000</td>\n",
       "      <td id=\"T_a55dd_row7_col2\" class=\"data row7 col2\" >100.000000</td>\n",
       "      <td id=\"T_a55dd_row7_col3\" class=\"data row7 col3\" >400.000000</td>\n",
       "      <td id=\"T_a55dd_row7_col4\" class=\"data row7 col4\" >5.000000</td>\n",
       "      <td id=\"T_a55dd_row7_col5\" class=\"data row7 col5\" >0.000010</td>\n",
       "      <td id=\"T_a55dd_row7_col6\" class=\"data row7 col6\" >0.000001</td>\n",
       "      <td id=\"T_a55dd_row7_col7\" class=\"data row7 col7\" >0.000500</td>\n",
       "      <td id=\"T_a55dd_row7_col8\" class=\"data row7 col8\" >0.750000</td>\n",
       "      <td id=\"T_a55dd_row7_col9\" class=\"data row7 col9\" >250.000000</td>\n",
       "      <td id=\"T_a55dd_row7_col10\" class=\"data row7 col10\" >0.000000</td>\n",
       "      <td id=\"T_a55dd_row7_col11\" class=\"data row7 col11\" >0.315675</td>\n",
       "      <td id=\"T_a55dd_row7_col12\" class=\"data row7 col12\" >0.131155</td>\n",
       "      <td id=\"T_a55dd_row7_col13\" class=\"data row7 col13\" >0.000033</td>\n",
       "      <td id=\"T_a55dd_row7_col14\" class=\"data row7 col14\" >0.000022</td>\n",
       "      <td id=\"T_a55dd_row7_col15\" class=\"data row7 col15\" >0.127067</td>\n",
       "    </tr>\n",
       "  </tbody>\n",
       "</table>\n"
      ],
      "text/plain": [
       "<pandas.io.formats.style.Styler at 0x7f53a13ea650>"
      ]
     },
     "execution_count": 11,
     "metadata": {},
     "output_type": "execute_result"
    }
   ],
   "source": [
    "error_treshold = 10\n",
    "gs_results_clean = gs_results.loc[(gs_results['mean_mean_euclidean_error'].notna()) & (gs_results['mean_mean_euclidean_error'] < error_treshold)].copy()\n",
    "\n",
    "\n",
    "gs_results_clean = gs_results_clean.reset_index(drop=True)\n",
    "gs_results_clean.style.background_gradient(cmap='Blues')"
   ]
  },
  {
   "cell_type": "code",
   "execution_count": 12,
   "metadata": {},
   "outputs": [],
   "source": [
    "minmaxsc = MinMaxScaler()\n",
    "std_gs_results_clean = pd.DataFrame(data=minmaxsc.fit_transform(gs_results_clean[numerical_col]), columns=numerical_col)"
   ]
  },
  {
   "cell_type": "code",
   "execution_count": 13,
   "metadata": {},
   "outputs": [],
   "source": [
    "def plot_gs(df, title):\n",
    "    \n",
    "    maps = {'adamax optimizer': adamax_opt_col,\n",
    "            'standard optimizer': st_opt_col,\n",
    "            'general': general_col,\n",
    "            'metrics': metrics_col,\n",
    "    }\n",
    "    # groups and trace visibilities\n",
    "    group = []\n",
    "    vis = []\n",
    "    visList = []\n",
    "    for m in maps.keys():\n",
    "        for col in numerical_col:\n",
    "            if col in maps[m]:\n",
    "                vis.append(True)\n",
    "            else:\n",
    "                vis.append(False)\n",
    "        group.append(m)\n",
    "        visList.append(vis)\n",
    "        vis = []\n",
    "\n",
    "    \n",
    "    fig = px.line(df, title=title)\n",
    "    #fig.update_layout(xaxis_range=[0, last_index])\n",
    "    fig.update_yaxes(showticklabels=False)\n",
    "    fig.update_traces(mode=\"markers+lines\", hovertemplate=None)\n",
    "    fig.update_layout(hovermode=\"x unified\")\n",
    "\n",
    "    # buttons for each group\n",
    "    buttons = []\n",
    "    for i, g in enumerate(group):\n",
    "        button =  dict(label=g,\n",
    "                    method = 'restyle',\n",
    "                        args = ['visible',visList[i]])\n",
    "        buttons.append(button)\n",
    "\n",
    "    buttons = [{'label': 'all',\n",
    "                    'method': 'restyle',\n",
    "                    'args': ['visible', [True, True, True, True, True, True]]}] + buttons\n",
    "    fig.update_layout(\n",
    "        updatemenus=[\n",
    "            dict(\n",
    "            type=\"dropdown\",\n",
    "            direction=\"down\",\n",
    "            buttons = buttons)\n",
    "        ],\n",
    "    )   \n",
    "\n",
    "    return fig"
   ]
  },
  {
   "cell_type": "code",
   "execution_count": 14,
   "metadata": {},
   "outputs": [
    {
     "data": {
      "application/vnd.plotly.v1+json": {
       "config": {
        "plotlyServerURL": "https://plot.ly"
       },
       "data": [
        {
         "legendgroup": "batch_size",
         "line": {
          "color": "#636efa",
          "dash": "solid"
         },
         "marker": {
          "symbol": "circle"
         },
         "mode": "markers+lines",
         "name": "batch_size",
         "orientation": "v",
         "showlegend": true,
         "type": "scatter",
         "x": [
          0,
          1,
          2,
          3,
          4,
          5,
          6,
          7
         ],
         "xaxis": "x",
         "y": [
          0,
          0,
          0,
          0,
          0,
          0,
          0,
          0
         ],
         "yaxis": "y"
        },
        {
         "legendgroup": "min_epochs",
         "line": {
          "color": "#EF553B",
          "dash": "solid"
         },
         "marker": {
          "symbol": "circle"
         },
         "mode": "markers+lines",
         "name": "min_epochs",
         "orientation": "v",
         "showlegend": true,
         "type": "scatter",
         "x": [
          0,
          1,
          2,
          3,
          4,
          5,
          6,
          7
         ],
         "xaxis": "x",
         "y": [
          0,
          0,
          0,
          0,
          0,
          0,
          0,
          0
         ],
         "yaxis": "y"
        },
        {
         "legendgroup": "max_epochs",
         "line": {
          "color": "#00cc96",
          "dash": "solid"
         },
         "marker": {
          "symbol": "circle"
         },
         "mode": "markers+lines",
         "name": "max_epochs",
         "orientation": "v",
         "showlegend": true,
         "type": "scatter",
         "x": [
          0,
          1,
          2,
          3,
          4,
          5,
          6,
          7
         ],
         "xaxis": "x",
         "y": [
          0,
          0,
          0,
          0,
          0,
          0,
          0,
          0
         ],
         "yaxis": "y"
        },
        {
         "legendgroup": "patience",
         "line": {
          "color": "#ab63fa",
          "dash": "solid"
         },
         "marker": {
          "symbol": "circle"
         },
         "mode": "markers+lines",
         "name": "patience",
         "orientation": "v",
         "showlegend": true,
         "type": "scatter",
         "x": [
          0,
          1,
          2,
          3,
          4,
          5,
          6,
          7
         ],
         "xaxis": "x",
         "y": [
          0,
          0,
          0,
          0,
          0,
          0,
          0,
          0
         ],
         "yaxis": "y"
        },
        {
         "legendgroup": "error_increase_tolerance",
         "line": {
          "color": "#FFA15A",
          "dash": "solid"
         },
         "marker": {
          "symbol": "circle"
         },
         "mode": "markers+lines",
         "name": "error_increase_tolerance",
         "orientation": "v",
         "showlegend": true,
         "type": "scatter",
         "x": [
          0,
          1,
          2,
          3,
          4,
          5,
          6,
          7
         ],
         "xaxis": "x",
         "y": [
          0,
          0,
          0,
          0,
          0,
          0,
          0,
          0
         ],
         "yaxis": "y"
        },
        {
         "legendgroup": "lambda_tikhonov",
         "line": {
          "color": "#19d3f3",
          "dash": "solid"
         },
         "marker": {
          "symbol": "circle"
         },
         "mode": "markers+lines",
         "name": "lambda_tikhonov",
         "orientation": "v",
         "showlegend": true,
         "type": "scatter",
         "x": [
          0,
          1,
          2,
          3,
          4,
          5,
          6,
          7
         ],
         "xaxis": "x",
         "y": [
          0,
          0,
          0,
          0,
          0,
          0,
          0,
          0
         ],
         "yaxis": "y"
        },
        {
         "legendgroup": "learning_rate",
         "line": {
          "color": "#FF6692",
          "dash": "solid"
         },
         "marker": {
          "symbol": "circle"
         },
         "mode": "markers+lines",
         "name": "learning_rate",
         "orientation": "v",
         "showlegend": true,
         "type": "scatter",
         "x": [
          0,
          1,
          2,
          3,
          4,
          5,
          6,
          7
         ],
         "xaxis": "x",
         "y": [
          0.9999999999999998,
          0.9999999999999998,
          0.3333333333333333,
          0.3333333333333333,
          0.1111111111111111,
          0.1111111111111111,
          0,
          0
         ],
         "yaxis": "y"
        },
        {
         "legendgroup": "alpha_momentum",
         "line": {
          "color": "#B6E880",
          "dash": "solid"
         },
         "marker": {
          "symbol": "circle"
         },
         "mode": "markers+lines",
         "name": "alpha_momentum",
         "orientation": "v",
         "showlegend": true,
         "type": "scatter",
         "x": [
          0,
          1,
          2,
          3,
          4,
          5,
          6,
          7
         ],
         "xaxis": "x",
         "y": [
          0,
          0,
          0,
          0,
          0,
          0,
          0,
          0
         ],
         "yaxis": "y"
        },
        {
         "legendgroup": "lr_decay_tau",
         "line": {
          "color": "#FF97FF",
          "dash": "solid"
         },
         "marker": {
          "symbol": "circle"
         },
         "mode": "markers+lines",
         "name": "lr_decay_tau",
         "orientation": "v",
         "showlegend": true,
         "type": "scatter",
         "x": [
          0,
          1,
          2,
          3,
          4,
          5,
          6,
          7
         ],
         "xaxis": "x",
         "y": [
          1,
          0,
          1,
          0,
          1,
          0,
          1,
          0
         ],
         "yaxis": "y"
        },
        {
         "legendgroup": "adamax",
         "line": {
          "color": "#FECB52",
          "dash": "solid"
         },
         "marker": {
          "symbol": "circle"
         },
         "mode": "markers+lines",
         "name": "adamax",
         "orientation": "v",
         "showlegend": true,
         "type": "scatter",
         "x": [
          0,
          1,
          2,
          3,
          4,
          5,
          6,
          7
         ],
         "xaxis": "x",
         "y": [
          0,
          0,
          0,
          0,
          0,
          0,
          0,
          0
         ],
         "yaxis": "y"
        },
        {
         "legendgroup": "mean_mean_euclidean_error",
         "line": {
          "color": "#636efa",
          "dash": "solid"
         },
         "marker": {
          "symbol": "circle"
         },
         "mode": "markers+lines",
         "name": "mean_mean_euclidean_error",
         "orientation": "v",
         "showlegend": true,
         "type": "scatter",
         "x": [
          0,
          1,
          2,
          3,
          4,
          5,
          6,
          7
         ],
         "xaxis": "x",
         "y": [
          0,
          0.3061197604043122,
          0.5703873781010622,
          0.6134375697558916,
          0.7073456768186088,
          0.7509009126866504,
          0.8998999407482309,
          1
         ],
         "yaxis": "y"
        },
        {
         "legendgroup": "mean_mean_squared_error",
         "line": {
          "color": "#EF553B",
          "dash": "solid"
         },
         "marker": {
          "symbol": "circle"
         },
         "mode": "markers+lines",
         "name": "mean_mean_squared_error",
         "orientation": "v",
         "showlegend": true,
         "type": "scatter",
         "x": [
          0,
          1,
          2,
          3,
          4,
          5,
          6,
          7
         ],
         "xaxis": "x",
         "y": [
          0,
          0.2792839109580467,
          0.5786930546454103,
          0.6384364110281617,
          0.7371663078563344,
          0.7604608264491555,
          0.908076034721355,
          1
         ],
         "yaxis": "y"
        },
        {
         "legendgroup": "var_mean_euclidean_error",
         "line": {
          "color": "#00cc96",
          "dash": "solid"
         },
         "marker": {
          "symbol": "circle"
         },
         "mode": "markers+lines",
         "name": "var_mean_euclidean_error",
         "orientation": "v",
         "showlegend": true,
         "type": "scatter",
         "x": [
          0,
          1,
          2,
          3,
          4,
          5,
          6,
          7
         ],
         "xaxis": "x",
         "y": [
          0.2332516730522363,
          0.13818294080545632,
          0.20756630584481742,
          0.07432753649454885,
          1,
          0.5709441926290522,
          0,
          0.17995389925428476
         ],
         "yaxis": "y"
        },
        {
         "legendgroup": "var_mean_squared_error",
         "line": {
          "color": "#ab63fa",
          "dash": "solid"
         },
         "marker": {
          "symbol": "circle"
         },
         "mode": "markers+lines",
         "name": "var_mean_squared_error",
         "orientation": "v",
         "showlegend": true,
         "type": "scatter",
         "x": [
          0,
          1,
          2,
          3,
          4,
          5,
          6,
          7
         ],
         "xaxis": "x",
         "y": [
          0,
          0.04233663769057516,
          0.5248979750403727,
          0.2909774909803171,
          1,
          0.42530914329330927,
          0.06077219833615349,
          0.10387311533077248
         ],
         "yaxis": "y"
        },
        {
         "legendgroup": "mean_best_validation_training_error",
         "line": {
          "color": "#FFA15A",
          "dash": "solid"
         },
         "marker": {
          "symbol": "circle"
         },
         "mode": "markers+lines",
         "name": "mean_best_validation_training_error",
         "orientation": "v",
         "showlegend": true,
         "type": "scatter",
         "x": [
          0,
          1,
          2,
          3,
          4,
          5,
          6,
          7
         ],
         "xaxis": "x",
         "y": [
          0,
          0.27280103384957766,
          0.5859387021349924,
          0.643049353235589,
          0.7095317164412591,
          0.7633444073009554,
          0.8965739397071173,
          0.9999999999999998
         ],
         "yaxis": "y"
        }
       ],
       "layout": {
        "hovermode": "x unified",
        "legend": {
         "title": {
          "text": "variable"
         },
         "tracegroupgap": 0
        },
        "template": {
         "data": {
          "bar": [
           {
            "error_x": {
             "color": "#2a3f5f"
            },
            "error_y": {
             "color": "#2a3f5f"
            },
            "marker": {
             "line": {
              "color": "#E5ECF6",
              "width": 0.5
             },
             "pattern": {
              "fillmode": "overlay",
              "size": 10,
              "solidity": 0.2
             }
            },
            "type": "bar"
           }
          ],
          "barpolar": [
           {
            "marker": {
             "line": {
              "color": "#E5ECF6",
              "width": 0.5
             },
             "pattern": {
              "fillmode": "overlay",
              "size": 10,
              "solidity": 0.2
             }
            },
            "type": "barpolar"
           }
          ],
          "carpet": [
           {
            "aaxis": {
             "endlinecolor": "#2a3f5f",
             "gridcolor": "white",
             "linecolor": "white",
             "minorgridcolor": "white",
             "startlinecolor": "#2a3f5f"
            },
            "baxis": {
             "endlinecolor": "#2a3f5f",
             "gridcolor": "white",
             "linecolor": "white",
             "minorgridcolor": "white",
             "startlinecolor": "#2a3f5f"
            },
            "type": "carpet"
           }
          ],
          "choropleth": [
           {
            "colorbar": {
             "outlinewidth": 0,
             "ticks": ""
            },
            "type": "choropleth"
           }
          ],
          "contour": [
           {
            "colorbar": {
             "outlinewidth": 0,
             "ticks": ""
            },
            "colorscale": [
             [
              0,
              "#0d0887"
             ],
             [
              0.1111111111111111,
              "#46039f"
             ],
             [
              0.2222222222222222,
              "#7201a8"
             ],
             [
              0.3333333333333333,
              "#9c179e"
             ],
             [
              0.4444444444444444,
              "#bd3786"
             ],
             [
              0.5555555555555556,
              "#d8576b"
             ],
             [
              0.6666666666666666,
              "#ed7953"
             ],
             [
              0.7777777777777778,
              "#fb9f3a"
             ],
             [
              0.8888888888888888,
              "#fdca26"
             ],
             [
              1,
              "#f0f921"
             ]
            ],
            "type": "contour"
           }
          ],
          "contourcarpet": [
           {
            "colorbar": {
             "outlinewidth": 0,
             "ticks": ""
            },
            "type": "contourcarpet"
           }
          ],
          "heatmap": [
           {
            "colorbar": {
             "outlinewidth": 0,
             "ticks": ""
            },
            "colorscale": [
             [
              0,
              "#0d0887"
             ],
             [
              0.1111111111111111,
              "#46039f"
             ],
             [
              0.2222222222222222,
              "#7201a8"
             ],
             [
              0.3333333333333333,
              "#9c179e"
             ],
             [
              0.4444444444444444,
              "#bd3786"
             ],
             [
              0.5555555555555556,
              "#d8576b"
             ],
             [
              0.6666666666666666,
              "#ed7953"
             ],
             [
              0.7777777777777778,
              "#fb9f3a"
             ],
             [
              0.8888888888888888,
              "#fdca26"
             ],
             [
              1,
              "#f0f921"
             ]
            ],
            "type": "heatmap"
           }
          ],
          "heatmapgl": [
           {
            "colorbar": {
             "outlinewidth": 0,
             "ticks": ""
            },
            "colorscale": [
             [
              0,
              "#0d0887"
             ],
             [
              0.1111111111111111,
              "#46039f"
             ],
             [
              0.2222222222222222,
              "#7201a8"
             ],
             [
              0.3333333333333333,
              "#9c179e"
             ],
             [
              0.4444444444444444,
              "#bd3786"
             ],
             [
              0.5555555555555556,
              "#d8576b"
             ],
             [
              0.6666666666666666,
              "#ed7953"
             ],
             [
              0.7777777777777778,
              "#fb9f3a"
             ],
             [
              0.8888888888888888,
              "#fdca26"
             ],
             [
              1,
              "#f0f921"
             ]
            ],
            "type": "heatmapgl"
           }
          ],
          "histogram": [
           {
            "marker": {
             "pattern": {
              "fillmode": "overlay",
              "size": 10,
              "solidity": 0.2
             }
            },
            "type": "histogram"
           }
          ],
          "histogram2d": [
           {
            "colorbar": {
             "outlinewidth": 0,
             "ticks": ""
            },
            "colorscale": [
             [
              0,
              "#0d0887"
             ],
             [
              0.1111111111111111,
              "#46039f"
             ],
             [
              0.2222222222222222,
              "#7201a8"
             ],
             [
              0.3333333333333333,
              "#9c179e"
             ],
             [
              0.4444444444444444,
              "#bd3786"
             ],
             [
              0.5555555555555556,
              "#d8576b"
             ],
             [
              0.6666666666666666,
              "#ed7953"
             ],
             [
              0.7777777777777778,
              "#fb9f3a"
             ],
             [
              0.8888888888888888,
              "#fdca26"
             ],
             [
              1,
              "#f0f921"
             ]
            ],
            "type": "histogram2d"
           }
          ],
          "histogram2dcontour": [
           {
            "colorbar": {
             "outlinewidth": 0,
             "ticks": ""
            },
            "colorscale": [
             [
              0,
              "#0d0887"
             ],
             [
              0.1111111111111111,
              "#46039f"
             ],
             [
              0.2222222222222222,
              "#7201a8"
             ],
             [
              0.3333333333333333,
              "#9c179e"
             ],
             [
              0.4444444444444444,
              "#bd3786"
             ],
             [
              0.5555555555555556,
              "#d8576b"
             ],
             [
              0.6666666666666666,
              "#ed7953"
             ],
             [
              0.7777777777777778,
              "#fb9f3a"
             ],
             [
              0.8888888888888888,
              "#fdca26"
             ],
             [
              1,
              "#f0f921"
             ]
            ],
            "type": "histogram2dcontour"
           }
          ],
          "mesh3d": [
           {
            "colorbar": {
             "outlinewidth": 0,
             "ticks": ""
            },
            "type": "mesh3d"
           }
          ],
          "parcoords": [
           {
            "line": {
             "colorbar": {
              "outlinewidth": 0,
              "ticks": ""
             }
            },
            "type": "parcoords"
           }
          ],
          "pie": [
           {
            "automargin": true,
            "type": "pie"
           }
          ],
          "scatter": [
           {
            "fillpattern": {
             "fillmode": "overlay",
             "size": 10,
             "solidity": 0.2
            },
            "type": "scatter"
           }
          ],
          "scatter3d": [
           {
            "line": {
             "colorbar": {
              "outlinewidth": 0,
              "ticks": ""
             }
            },
            "marker": {
             "colorbar": {
              "outlinewidth": 0,
              "ticks": ""
             }
            },
            "type": "scatter3d"
           }
          ],
          "scattercarpet": [
           {
            "marker": {
             "colorbar": {
              "outlinewidth": 0,
              "ticks": ""
             }
            },
            "type": "scattercarpet"
           }
          ],
          "scattergeo": [
           {
            "marker": {
             "colorbar": {
              "outlinewidth": 0,
              "ticks": ""
             }
            },
            "type": "scattergeo"
           }
          ],
          "scattergl": [
           {
            "marker": {
             "colorbar": {
              "outlinewidth": 0,
              "ticks": ""
             }
            },
            "type": "scattergl"
           }
          ],
          "scattermapbox": [
           {
            "marker": {
             "colorbar": {
              "outlinewidth": 0,
              "ticks": ""
             }
            },
            "type": "scattermapbox"
           }
          ],
          "scatterpolar": [
           {
            "marker": {
             "colorbar": {
              "outlinewidth": 0,
              "ticks": ""
             }
            },
            "type": "scatterpolar"
           }
          ],
          "scatterpolargl": [
           {
            "marker": {
             "colorbar": {
              "outlinewidth": 0,
              "ticks": ""
             }
            },
            "type": "scatterpolargl"
           }
          ],
          "scatterternary": [
           {
            "marker": {
             "colorbar": {
              "outlinewidth": 0,
              "ticks": ""
             }
            },
            "type": "scatterternary"
           }
          ],
          "surface": [
           {
            "colorbar": {
             "outlinewidth": 0,
             "ticks": ""
            },
            "colorscale": [
             [
              0,
              "#0d0887"
             ],
             [
              0.1111111111111111,
              "#46039f"
             ],
             [
              0.2222222222222222,
              "#7201a8"
             ],
             [
              0.3333333333333333,
              "#9c179e"
             ],
             [
              0.4444444444444444,
              "#bd3786"
             ],
             [
              0.5555555555555556,
              "#d8576b"
             ],
             [
              0.6666666666666666,
              "#ed7953"
             ],
             [
              0.7777777777777778,
              "#fb9f3a"
             ],
             [
              0.8888888888888888,
              "#fdca26"
             ],
             [
              1,
              "#f0f921"
             ]
            ],
            "type": "surface"
           }
          ],
          "table": [
           {
            "cells": {
             "fill": {
              "color": "#EBF0F8"
             },
             "line": {
              "color": "white"
             }
            },
            "header": {
             "fill": {
              "color": "#C8D4E3"
             },
             "line": {
              "color": "white"
             }
            },
            "type": "table"
           }
          ]
         },
         "layout": {
          "annotationdefaults": {
           "arrowcolor": "#2a3f5f",
           "arrowhead": 0,
           "arrowwidth": 1
          },
          "autotypenumbers": "strict",
          "coloraxis": {
           "colorbar": {
            "outlinewidth": 0,
            "ticks": ""
           }
          },
          "colorscale": {
           "diverging": [
            [
             0,
             "#8e0152"
            ],
            [
             0.1,
             "#c51b7d"
            ],
            [
             0.2,
             "#de77ae"
            ],
            [
             0.3,
             "#f1b6da"
            ],
            [
             0.4,
             "#fde0ef"
            ],
            [
             0.5,
             "#f7f7f7"
            ],
            [
             0.6,
             "#e6f5d0"
            ],
            [
             0.7,
             "#b8e186"
            ],
            [
             0.8,
             "#7fbc41"
            ],
            [
             0.9,
             "#4d9221"
            ],
            [
             1,
             "#276419"
            ]
           ],
           "sequential": [
            [
             0,
             "#0d0887"
            ],
            [
             0.1111111111111111,
             "#46039f"
            ],
            [
             0.2222222222222222,
             "#7201a8"
            ],
            [
             0.3333333333333333,
             "#9c179e"
            ],
            [
             0.4444444444444444,
             "#bd3786"
            ],
            [
             0.5555555555555556,
             "#d8576b"
            ],
            [
             0.6666666666666666,
             "#ed7953"
            ],
            [
             0.7777777777777778,
             "#fb9f3a"
            ],
            [
             0.8888888888888888,
             "#fdca26"
            ],
            [
             1,
             "#f0f921"
            ]
           ],
           "sequentialminus": [
            [
             0,
             "#0d0887"
            ],
            [
             0.1111111111111111,
             "#46039f"
            ],
            [
             0.2222222222222222,
             "#7201a8"
            ],
            [
             0.3333333333333333,
             "#9c179e"
            ],
            [
             0.4444444444444444,
             "#bd3786"
            ],
            [
             0.5555555555555556,
             "#d8576b"
            ],
            [
             0.6666666666666666,
             "#ed7953"
            ],
            [
             0.7777777777777778,
             "#fb9f3a"
            ],
            [
             0.8888888888888888,
             "#fdca26"
            ],
            [
             1,
             "#f0f921"
            ]
           ]
          },
          "colorway": [
           "#636efa",
           "#EF553B",
           "#00cc96",
           "#ab63fa",
           "#FFA15A",
           "#19d3f3",
           "#FF6692",
           "#B6E880",
           "#FF97FF",
           "#FECB52"
          ],
          "font": {
           "color": "#2a3f5f"
          },
          "geo": {
           "bgcolor": "white",
           "lakecolor": "white",
           "landcolor": "#E5ECF6",
           "showlakes": true,
           "showland": true,
           "subunitcolor": "white"
          },
          "hoverlabel": {
           "align": "left"
          },
          "hovermode": "closest",
          "mapbox": {
           "style": "light"
          },
          "paper_bgcolor": "white",
          "plot_bgcolor": "#E5ECF6",
          "polar": {
           "angularaxis": {
            "gridcolor": "white",
            "linecolor": "white",
            "ticks": ""
           },
           "bgcolor": "#E5ECF6",
           "radialaxis": {
            "gridcolor": "white",
            "linecolor": "white",
            "ticks": ""
           }
          },
          "scene": {
           "xaxis": {
            "backgroundcolor": "#E5ECF6",
            "gridcolor": "white",
            "gridwidth": 2,
            "linecolor": "white",
            "showbackground": true,
            "ticks": "",
            "zerolinecolor": "white"
           },
           "yaxis": {
            "backgroundcolor": "#E5ECF6",
            "gridcolor": "white",
            "gridwidth": 2,
            "linecolor": "white",
            "showbackground": true,
            "ticks": "",
            "zerolinecolor": "white"
           },
           "zaxis": {
            "backgroundcolor": "#E5ECF6",
            "gridcolor": "white",
            "gridwidth": 2,
            "linecolor": "white",
            "showbackground": true,
            "ticks": "",
            "zerolinecolor": "white"
           }
          },
          "shapedefaults": {
           "line": {
            "color": "#2a3f5f"
           }
          },
          "ternary": {
           "aaxis": {
            "gridcolor": "white",
            "linecolor": "white",
            "ticks": ""
           },
           "baxis": {
            "gridcolor": "white",
            "linecolor": "white",
            "ticks": ""
           },
           "bgcolor": "#E5ECF6",
           "caxis": {
            "gridcolor": "white",
            "linecolor": "white",
            "ticks": ""
           }
          },
          "title": {
           "x": 0.05
          },
          "xaxis": {
           "automargin": true,
           "gridcolor": "white",
           "linecolor": "white",
           "ticks": "",
           "title": {
            "standoff": 15
           },
           "zerolinecolor": "white",
           "zerolinewidth": 2
          },
          "yaxis": {
           "automargin": true,
           "gridcolor": "white",
           "linecolor": "white",
           "ticks": "",
           "title": {
            "standoff": 15
           },
           "zerolinecolor": "white",
           "zerolinewidth": 2
          }
         }
        },
        "title": {
         "text": "GridSearch normalized values"
        },
        "updatemenus": [
         {
          "buttons": [
           {
            "args": [
             "visible",
             [
              true,
              true,
              true,
              true,
              true,
              true
             ]
            ],
            "label": "all",
            "method": "restyle"
           },
           {
            "args": [
             "visible",
             [
              false,
              false,
              false,
              false,
              false,
              false,
              false,
              false,
              false,
              true,
              false,
              false,
              false,
              false,
              false
             ]
            ],
            "label": "adamax optimizer",
            "method": "restyle"
           },
           {
            "args": [
             "visible",
             [
              false,
              false,
              false,
              false,
              false,
              false,
              true,
              true,
              true,
              false,
              false,
              false,
              false,
              false,
              false
             ]
            ],
            "label": "standard optimizer",
            "method": "restyle"
           },
           {
            "args": [
             "visible",
             [
              true,
              true,
              true,
              true,
              true,
              true,
              false,
              false,
              false,
              false,
              false,
              false,
              false,
              false,
              false
             ]
            ],
            "label": "general",
            "method": "restyle"
           },
           {
            "args": [
             "visible",
             [
              false,
              false,
              false,
              false,
              false,
              false,
              false,
              false,
              false,
              false,
              true,
              true,
              true,
              true,
              true
             ]
            ],
            "label": "metrics",
            "method": "restyle"
           }
          ],
          "direction": "down",
          "type": "dropdown"
         }
        ],
        "xaxis": {
         "anchor": "y",
         "domain": [
          0,
          1
         ],
         "title": {
          "text": "index"
         }
        },
        "yaxis": {
         "anchor": "x",
         "domain": [
          0,
          1
         ],
         "showticklabels": false,
         "title": {
          "text": "value"
         }
        }
       }
      }
     },
     "metadata": {},
     "output_type": "display_data"
    }
   ],
   "source": [
    "plot_gs(std_gs_results_clean.iloc[:25], 'GridSearch normalized values')"
   ]
  },
  {
   "cell_type": "code",
   "execution_count": 15,
   "metadata": {},
   "outputs": [
    {
     "data": {
      "application/vnd.plotly.v1+json": {
       "config": {
        "plotlyServerURL": "https://plot.ly"
       },
       "data": [
        {
         "legendgroup": "batch_size",
         "line": {
          "color": "#636efa",
          "dash": "solid"
         },
         "marker": {
          "symbol": "circle"
         },
         "mode": "markers+lines",
         "name": "batch_size",
         "orientation": "v",
         "showlegend": true,
         "type": "scatter",
         "x": [
          0,
          1,
          2,
          3,
          4,
          5,
          6,
          7
         ],
         "xaxis": "x",
         "y": [
          10,
          10,
          10,
          10,
          10,
          10,
          10,
          10
         ],
         "yaxis": "y"
        },
        {
         "legendgroup": "min_epochs",
         "line": {
          "color": "#EF553B",
          "dash": "solid"
         },
         "marker": {
          "symbol": "circle"
         },
         "mode": "markers+lines",
         "name": "min_epochs",
         "orientation": "v",
         "showlegend": true,
         "type": "scatter",
         "x": [
          0,
          1,
          2,
          3,
          4,
          5,
          6,
          7
         ],
         "xaxis": "x",
         "y": [
          100,
          100,
          100,
          100,
          100,
          100,
          100,
          100
         ],
         "yaxis": "y"
        },
        {
         "legendgroup": "max_epochs",
         "line": {
          "color": "#00cc96",
          "dash": "solid"
         },
         "marker": {
          "symbol": "circle"
         },
         "mode": "markers+lines",
         "name": "max_epochs",
         "orientation": "v",
         "showlegend": true,
         "type": "scatter",
         "x": [
          0,
          1,
          2,
          3,
          4,
          5,
          6,
          7
         ],
         "xaxis": "x",
         "y": [
          400,
          400,
          400,
          400,
          400,
          400,
          400,
          400
         ],
         "yaxis": "y"
        },
        {
         "legendgroup": "patience",
         "line": {
          "color": "#ab63fa",
          "dash": "solid"
         },
         "marker": {
          "symbol": "circle"
         },
         "mode": "markers+lines",
         "name": "patience",
         "orientation": "v",
         "showlegend": true,
         "type": "scatter",
         "x": [
          0,
          1,
          2,
          3,
          4,
          5,
          6,
          7
         ],
         "xaxis": "x",
         "y": [
          5,
          5,
          5,
          5,
          5,
          5,
          5,
          5
         ],
         "yaxis": "y"
        },
        {
         "legendgroup": "error_increase_tolerance",
         "line": {
          "color": "#FFA15A",
          "dash": "solid"
         },
         "marker": {
          "symbol": "circle"
         },
         "mode": "markers+lines",
         "name": "error_increase_tolerance",
         "orientation": "v",
         "showlegend": true,
         "type": "scatter",
         "x": [
          0,
          1,
          2,
          3,
          4,
          5,
          6,
          7
         ],
         "xaxis": "x",
         "y": [
          0.00001,
          0.00001,
          0.00001,
          0.00001,
          0.00001,
          0.00001,
          0.00001,
          0.00001
         ],
         "yaxis": "y"
        },
        {
         "legendgroup": "lambda_tikhonov",
         "line": {
          "color": "#19d3f3",
          "dash": "solid"
         },
         "marker": {
          "symbol": "circle"
         },
         "mode": "markers+lines",
         "name": "lambda_tikhonov",
         "orientation": "v",
         "showlegend": true,
         "type": "scatter",
         "x": [
          0,
          1,
          2,
          3,
          4,
          5,
          6,
          7
         ],
         "xaxis": "x",
         "y": [
          0.000001,
          0.000001,
          0.000001,
          0.000001,
          0.000001,
          0.000001,
          0.000001,
          0.000001
         ],
         "yaxis": "y"
        },
        {
         "legendgroup": "learning_rate",
         "line": {
          "color": "#FF6692",
          "dash": "solid"
         },
         "marker": {
          "symbol": "circle"
         },
         "mode": "markers+lines",
         "name": "learning_rate",
         "orientation": "v",
         "showlegend": true,
         "type": "scatter",
         "x": [
          0,
          1,
          2,
          3,
          4,
          5,
          6,
          7
         ],
         "xaxis": "x",
         "y": [
          0.005,
          0.005,
          0.002,
          0.002,
          0.001,
          0.001,
          0.0005,
          0.0005
         ],
         "yaxis": "y"
        },
        {
         "legendgroup": "alpha_momentum",
         "line": {
          "color": "#B6E880",
          "dash": "solid"
         },
         "marker": {
          "symbol": "circle"
         },
         "mode": "markers+lines",
         "name": "alpha_momentum",
         "orientation": "v",
         "showlegend": true,
         "type": "scatter",
         "x": [
          0,
          1,
          2,
          3,
          4,
          5,
          6,
          7
         ],
         "xaxis": "x",
         "y": [
          0.75,
          0.75,
          0.75,
          0.75,
          0.75,
          0.75,
          0.75,
          0.75
         ],
         "yaxis": "y"
        },
        {
         "legendgroup": "lr_decay_tau",
         "line": {
          "color": "#FF97FF",
          "dash": "solid"
         },
         "marker": {
          "symbol": "circle"
         },
         "mode": "markers+lines",
         "name": "lr_decay_tau",
         "orientation": "v",
         "showlegend": true,
         "type": "scatter",
         "x": [
          0,
          1,
          2,
          3,
          4,
          5,
          6,
          7
         ],
         "xaxis": "x",
         "y": [
          300,
          250,
          300,
          250,
          300,
          250,
          300,
          250
         ],
         "yaxis": "y"
        },
        {
         "legendgroup": "adamax",
         "line": {
          "color": "#FECB52",
          "dash": "solid"
         },
         "marker": {
          "symbol": "circle"
         },
         "mode": "markers+lines",
         "name": "adamax",
         "orientation": "v",
         "showlegend": true,
         "type": "scatter",
         "x": [
          0,
          1,
          2,
          3,
          4,
          5,
          6,
          7
         ],
         "xaxis": "x",
         "y": [
          0,
          0,
          0,
          0,
          0,
          0,
          0,
          0
         ],
         "yaxis": "y"
        },
        {
         "legendgroup": "mean_mean_euclidean_error",
         "line": {
          "color": "#636efa",
          "dash": "solid"
         },
         "marker": {
          "symbol": "circle"
         },
         "mode": "markers+lines",
         "name": "mean_mean_euclidean_error",
         "orientation": "v",
         "showlegend": true,
         "type": "scatter",
         "x": [
          0,
          1,
          2,
          3,
          4,
          5,
          6,
          7
         ],
         "xaxis": "x",
         "y": [
          0.2408532050571899,
          0.2637576613505599,
          0.283530661601487,
          0.2867517579197283,
          0.2937781391339637,
          0.29703702381024,
          0.3081854113611895,
          0.3156750860854468
         ],
         "yaxis": "y"
        },
        {
         "legendgroup": "mean_mean_squared_error",
         "line": {
          "color": "#EF553B",
          "dash": "solid"
         },
         "marker": {
          "symbol": "circle"
         },
         "mode": "markers+lines",
         "name": "mean_mean_squared_error",
         "orientation": "v",
         "showlegend": true,
         "type": "scatter",
         "x": [
          0,
          1,
          2,
          3,
          4,
          5,
          6,
          7
         ],
         "xaxis": "x",
         "y": [
          0.0765031570517573,
          0.0917664047998998,
          0.1081295240446955,
          0.1113945801900618,
          0.1167903040979217,
          0.1180633814020753,
          0.1261307544473872,
          0.1311545248866746
         ],
         "yaxis": "y"
        },
        {
         "legendgroup": "var_mean_euclidean_error",
         "line": {
          "color": "#00cc96",
          "dash": "solid"
         },
         "marker": {
          "symbol": "circle"
         },
         "mode": "markers+lines",
         "name": "var_mean_euclidean_error",
         "orientation": "v",
         "showlegend": true,
         "type": "scatter",
         "x": [
          0,
          1,
          2,
          3,
          4,
          5,
          6,
          7
         ],
         "xaxis": "x",
         "y": [
          0.00003944796116001055,
          0.00002722333905579984,
          0.00003614515170523088,
          0.00001901235139914188,
          0.0001380419817644,
          0.00008287089677389291,
          0.000009454781585081746,
          0.00003259454965154133
         ],
         "yaxis": "y"
        },
        {
         "legendgroup": "var_mean_squared_error",
         "line": {
          "color": "#ab63fa",
          "dash": "solid"
         },
         "marker": {
          "symbol": "circle"
         },
         "mode": "markers+lines",
         "name": "var_mean_squared_error",
         "orientation": "v",
         "showlegend": true,
         "type": "scatter",
         "x": [
          0,
          1,
          2,
          3,
          4,
          5,
          6,
          7
         ],
         "xaxis": "x",
         "y": [
          0.0000158023191024772,
          0.00001847367330998289,
          0.00004892229486397863,
          0.000034162396501650546,
          0.00007890024924586172,
          0.00004263844571534114,
          0.00001963691902775172,
          0.000022356497677394003
         ],
         "yaxis": "y"
        },
        {
         "legendgroup": "mean_best_validation_training_error",
         "line": {
          "color": "#FFA15A",
          "dash": "solid"
         },
         "marker": {
          "symbol": "circle"
         },
         "mode": "markers+lines",
         "name": "mean_best_validation_training_error",
         "orientation": "v",
         "showlegend": true,
         "type": "scatter",
         "x": [
          0,
          1,
          2,
          3,
          4,
          5,
          6,
          7
         ],
         "xaxis": "x",
         "y": [
          0.0714702605253902,
          0.0866369845822518,
          0.1040462756676833,
          0.1072214157092275,
          0.1109175881289568,
          0.1139093738326585,
          0.1213164409017047,
          0.1270665456378012
         ],
         "yaxis": "y"
        }
       ],
       "layout": {
        "hovermode": "x unified",
        "legend": {
         "title": {
          "text": "variable"
         },
         "tracegroupgap": 0
        },
        "template": {
         "data": {
          "bar": [
           {
            "error_x": {
             "color": "#2a3f5f"
            },
            "error_y": {
             "color": "#2a3f5f"
            },
            "marker": {
             "line": {
              "color": "#E5ECF6",
              "width": 0.5
             },
             "pattern": {
              "fillmode": "overlay",
              "size": 10,
              "solidity": 0.2
             }
            },
            "type": "bar"
           }
          ],
          "barpolar": [
           {
            "marker": {
             "line": {
              "color": "#E5ECF6",
              "width": 0.5
             },
             "pattern": {
              "fillmode": "overlay",
              "size": 10,
              "solidity": 0.2
             }
            },
            "type": "barpolar"
           }
          ],
          "carpet": [
           {
            "aaxis": {
             "endlinecolor": "#2a3f5f",
             "gridcolor": "white",
             "linecolor": "white",
             "minorgridcolor": "white",
             "startlinecolor": "#2a3f5f"
            },
            "baxis": {
             "endlinecolor": "#2a3f5f",
             "gridcolor": "white",
             "linecolor": "white",
             "minorgridcolor": "white",
             "startlinecolor": "#2a3f5f"
            },
            "type": "carpet"
           }
          ],
          "choropleth": [
           {
            "colorbar": {
             "outlinewidth": 0,
             "ticks": ""
            },
            "type": "choropleth"
           }
          ],
          "contour": [
           {
            "colorbar": {
             "outlinewidth": 0,
             "ticks": ""
            },
            "colorscale": [
             [
              0,
              "#0d0887"
             ],
             [
              0.1111111111111111,
              "#46039f"
             ],
             [
              0.2222222222222222,
              "#7201a8"
             ],
             [
              0.3333333333333333,
              "#9c179e"
             ],
             [
              0.4444444444444444,
              "#bd3786"
             ],
             [
              0.5555555555555556,
              "#d8576b"
             ],
             [
              0.6666666666666666,
              "#ed7953"
             ],
             [
              0.7777777777777778,
              "#fb9f3a"
             ],
             [
              0.8888888888888888,
              "#fdca26"
             ],
             [
              1,
              "#f0f921"
             ]
            ],
            "type": "contour"
           }
          ],
          "contourcarpet": [
           {
            "colorbar": {
             "outlinewidth": 0,
             "ticks": ""
            },
            "type": "contourcarpet"
           }
          ],
          "heatmap": [
           {
            "colorbar": {
             "outlinewidth": 0,
             "ticks": ""
            },
            "colorscale": [
             [
              0,
              "#0d0887"
             ],
             [
              0.1111111111111111,
              "#46039f"
             ],
             [
              0.2222222222222222,
              "#7201a8"
             ],
             [
              0.3333333333333333,
              "#9c179e"
             ],
             [
              0.4444444444444444,
              "#bd3786"
             ],
             [
              0.5555555555555556,
              "#d8576b"
             ],
             [
              0.6666666666666666,
              "#ed7953"
             ],
             [
              0.7777777777777778,
              "#fb9f3a"
             ],
             [
              0.8888888888888888,
              "#fdca26"
             ],
             [
              1,
              "#f0f921"
             ]
            ],
            "type": "heatmap"
           }
          ],
          "heatmapgl": [
           {
            "colorbar": {
             "outlinewidth": 0,
             "ticks": ""
            },
            "colorscale": [
             [
              0,
              "#0d0887"
             ],
             [
              0.1111111111111111,
              "#46039f"
             ],
             [
              0.2222222222222222,
              "#7201a8"
             ],
             [
              0.3333333333333333,
              "#9c179e"
             ],
             [
              0.4444444444444444,
              "#bd3786"
             ],
             [
              0.5555555555555556,
              "#d8576b"
             ],
             [
              0.6666666666666666,
              "#ed7953"
             ],
             [
              0.7777777777777778,
              "#fb9f3a"
             ],
             [
              0.8888888888888888,
              "#fdca26"
             ],
             [
              1,
              "#f0f921"
             ]
            ],
            "type": "heatmapgl"
           }
          ],
          "histogram": [
           {
            "marker": {
             "pattern": {
              "fillmode": "overlay",
              "size": 10,
              "solidity": 0.2
             }
            },
            "type": "histogram"
           }
          ],
          "histogram2d": [
           {
            "colorbar": {
             "outlinewidth": 0,
             "ticks": ""
            },
            "colorscale": [
             [
              0,
              "#0d0887"
             ],
             [
              0.1111111111111111,
              "#46039f"
             ],
             [
              0.2222222222222222,
              "#7201a8"
             ],
             [
              0.3333333333333333,
              "#9c179e"
             ],
             [
              0.4444444444444444,
              "#bd3786"
             ],
             [
              0.5555555555555556,
              "#d8576b"
             ],
             [
              0.6666666666666666,
              "#ed7953"
             ],
             [
              0.7777777777777778,
              "#fb9f3a"
             ],
             [
              0.8888888888888888,
              "#fdca26"
             ],
             [
              1,
              "#f0f921"
             ]
            ],
            "type": "histogram2d"
           }
          ],
          "histogram2dcontour": [
           {
            "colorbar": {
             "outlinewidth": 0,
             "ticks": ""
            },
            "colorscale": [
             [
              0,
              "#0d0887"
             ],
             [
              0.1111111111111111,
              "#46039f"
             ],
             [
              0.2222222222222222,
              "#7201a8"
             ],
             [
              0.3333333333333333,
              "#9c179e"
             ],
             [
              0.4444444444444444,
              "#bd3786"
             ],
             [
              0.5555555555555556,
              "#d8576b"
             ],
             [
              0.6666666666666666,
              "#ed7953"
             ],
             [
              0.7777777777777778,
              "#fb9f3a"
             ],
             [
              0.8888888888888888,
              "#fdca26"
             ],
             [
              1,
              "#f0f921"
             ]
            ],
            "type": "histogram2dcontour"
           }
          ],
          "mesh3d": [
           {
            "colorbar": {
             "outlinewidth": 0,
             "ticks": ""
            },
            "type": "mesh3d"
           }
          ],
          "parcoords": [
           {
            "line": {
             "colorbar": {
              "outlinewidth": 0,
              "ticks": ""
             }
            },
            "type": "parcoords"
           }
          ],
          "pie": [
           {
            "automargin": true,
            "type": "pie"
           }
          ],
          "scatter": [
           {
            "fillpattern": {
             "fillmode": "overlay",
             "size": 10,
             "solidity": 0.2
            },
            "type": "scatter"
           }
          ],
          "scatter3d": [
           {
            "line": {
             "colorbar": {
              "outlinewidth": 0,
              "ticks": ""
             }
            },
            "marker": {
             "colorbar": {
              "outlinewidth": 0,
              "ticks": ""
             }
            },
            "type": "scatter3d"
           }
          ],
          "scattercarpet": [
           {
            "marker": {
             "colorbar": {
              "outlinewidth": 0,
              "ticks": ""
             }
            },
            "type": "scattercarpet"
           }
          ],
          "scattergeo": [
           {
            "marker": {
             "colorbar": {
              "outlinewidth": 0,
              "ticks": ""
             }
            },
            "type": "scattergeo"
           }
          ],
          "scattergl": [
           {
            "marker": {
             "colorbar": {
              "outlinewidth": 0,
              "ticks": ""
             }
            },
            "type": "scattergl"
           }
          ],
          "scattermapbox": [
           {
            "marker": {
             "colorbar": {
              "outlinewidth": 0,
              "ticks": ""
             }
            },
            "type": "scattermapbox"
           }
          ],
          "scatterpolar": [
           {
            "marker": {
             "colorbar": {
              "outlinewidth": 0,
              "ticks": ""
             }
            },
            "type": "scatterpolar"
           }
          ],
          "scatterpolargl": [
           {
            "marker": {
             "colorbar": {
              "outlinewidth": 0,
              "ticks": ""
             }
            },
            "type": "scatterpolargl"
           }
          ],
          "scatterternary": [
           {
            "marker": {
             "colorbar": {
              "outlinewidth": 0,
              "ticks": ""
             }
            },
            "type": "scatterternary"
           }
          ],
          "surface": [
           {
            "colorbar": {
             "outlinewidth": 0,
             "ticks": ""
            },
            "colorscale": [
             [
              0,
              "#0d0887"
             ],
             [
              0.1111111111111111,
              "#46039f"
             ],
             [
              0.2222222222222222,
              "#7201a8"
             ],
             [
              0.3333333333333333,
              "#9c179e"
             ],
             [
              0.4444444444444444,
              "#bd3786"
             ],
             [
              0.5555555555555556,
              "#d8576b"
             ],
             [
              0.6666666666666666,
              "#ed7953"
             ],
             [
              0.7777777777777778,
              "#fb9f3a"
             ],
             [
              0.8888888888888888,
              "#fdca26"
             ],
             [
              1,
              "#f0f921"
             ]
            ],
            "type": "surface"
           }
          ],
          "table": [
           {
            "cells": {
             "fill": {
              "color": "#EBF0F8"
             },
             "line": {
              "color": "white"
             }
            },
            "header": {
             "fill": {
              "color": "#C8D4E3"
             },
             "line": {
              "color": "white"
             }
            },
            "type": "table"
           }
          ]
         },
         "layout": {
          "annotationdefaults": {
           "arrowcolor": "#2a3f5f",
           "arrowhead": 0,
           "arrowwidth": 1
          },
          "autotypenumbers": "strict",
          "coloraxis": {
           "colorbar": {
            "outlinewidth": 0,
            "ticks": ""
           }
          },
          "colorscale": {
           "diverging": [
            [
             0,
             "#8e0152"
            ],
            [
             0.1,
             "#c51b7d"
            ],
            [
             0.2,
             "#de77ae"
            ],
            [
             0.3,
             "#f1b6da"
            ],
            [
             0.4,
             "#fde0ef"
            ],
            [
             0.5,
             "#f7f7f7"
            ],
            [
             0.6,
             "#e6f5d0"
            ],
            [
             0.7,
             "#b8e186"
            ],
            [
             0.8,
             "#7fbc41"
            ],
            [
             0.9,
             "#4d9221"
            ],
            [
             1,
             "#276419"
            ]
           ],
           "sequential": [
            [
             0,
             "#0d0887"
            ],
            [
             0.1111111111111111,
             "#46039f"
            ],
            [
             0.2222222222222222,
             "#7201a8"
            ],
            [
             0.3333333333333333,
             "#9c179e"
            ],
            [
             0.4444444444444444,
             "#bd3786"
            ],
            [
             0.5555555555555556,
             "#d8576b"
            ],
            [
             0.6666666666666666,
             "#ed7953"
            ],
            [
             0.7777777777777778,
             "#fb9f3a"
            ],
            [
             0.8888888888888888,
             "#fdca26"
            ],
            [
             1,
             "#f0f921"
            ]
           ],
           "sequentialminus": [
            [
             0,
             "#0d0887"
            ],
            [
             0.1111111111111111,
             "#46039f"
            ],
            [
             0.2222222222222222,
             "#7201a8"
            ],
            [
             0.3333333333333333,
             "#9c179e"
            ],
            [
             0.4444444444444444,
             "#bd3786"
            ],
            [
             0.5555555555555556,
             "#d8576b"
            ],
            [
             0.6666666666666666,
             "#ed7953"
            ],
            [
             0.7777777777777778,
             "#fb9f3a"
            ],
            [
             0.8888888888888888,
             "#fdca26"
            ],
            [
             1,
             "#f0f921"
            ]
           ]
          },
          "colorway": [
           "#636efa",
           "#EF553B",
           "#00cc96",
           "#ab63fa",
           "#FFA15A",
           "#19d3f3",
           "#FF6692",
           "#B6E880",
           "#FF97FF",
           "#FECB52"
          ],
          "font": {
           "color": "#2a3f5f"
          },
          "geo": {
           "bgcolor": "white",
           "lakecolor": "white",
           "landcolor": "#E5ECF6",
           "showlakes": true,
           "showland": true,
           "subunitcolor": "white"
          },
          "hoverlabel": {
           "align": "left"
          },
          "hovermode": "closest",
          "mapbox": {
           "style": "light"
          },
          "paper_bgcolor": "white",
          "plot_bgcolor": "#E5ECF6",
          "polar": {
           "angularaxis": {
            "gridcolor": "white",
            "linecolor": "white",
            "ticks": ""
           },
           "bgcolor": "#E5ECF6",
           "radialaxis": {
            "gridcolor": "white",
            "linecolor": "white",
            "ticks": ""
           }
          },
          "scene": {
           "xaxis": {
            "backgroundcolor": "#E5ECF6",
            "gridcolor": "white",
            "gridwidth": 2,
            "linecolor": "white",
            "showbackground": true,
            "ticks": "",
            "zerolinecolor": "white"
           },
           "yaxis": {
            "backgroundcolor": "#E5ECF6",
            "gridcolor": "white",
            "gridwidth": 2,
            "linecolor": "white",
            "showbackground": true,
            "ticks": "",
            "zerolinecolor": "white"
           },
           "zaxis": {
            "backgroundcolor": "#E5ECF6",
            "gridcolor": "white",
            "gridwidth": 2,
            "linecolor": "white",
            "showbackground": true,
            "ticks": "",
            "zerolinecolor": "white"
           }
          },
          "shapedefaults": {
           "line": {
            "color": "#2a3f5f"
           }
          },
          "ternary": {
           "aaxis": {
            "gridcolor": "white",
            "linecolor": "white",
            "ticks": ""
           },
           "baxis": {
            "gridcolor": "white",
            "linecolor": "white",
            "ticks": ""
           },
           "bgcolor": "#E5ECF6",
           "caxis": {
            "gridcolor": "white",
            "linecolor": "white",
            "ticks": ""
           }
          },
          "title": {
           "x": 0.05
          },
          "xaxis": {
           "automargin": true,
           "gridcolor": "white",
           "linecolor": "white",
           "ticks": "",
           "title": {
            "standoff": 15
           },
           "zerolinecolor": "white",
           "zerolinewidth": 2
          },
          "yaxis": {
           "automargin": true,
           "gridcolor": "white",
           "linecolor": "white",
           "ticks": "",
           "title": {
            "standoff": 15
           },
           "zerolinecolor": "white",
           "zerolinewidth": 2
          }
         }
        },
        "title": {
         "text": "GridSearch values"
        },
        "updatemenus": [
         {
          "buttons": [
           {
            "args": [
             "visible",
             [
              true,
              true,
              true,
              true,
              true,
              true
             ]
            ],
            "label": "all",
            "method": "restyle"
           },
           {
            "args": [
             "visible",
             [
              false,
              false,
              false,
              false,
              false,
              false,
              false,
              false,
              false,
              true,
              false,
              false,
              false,
              false,
              false
             ]
            ],
            "label": "adamax optimizer",
            "method": "restyle"
           },
           {
            "args": [
             "visible",
             [
              false,
              false,
              false,
              false,
              false,
              false,
              true,
              true,
              true,
              false,
              false,
              false,
              false,
              false,
              false
             ]
            ],
            "label": "standard optimizer",
            "method": "restyle"
           },
           {
            "args": [
             "visible",
             [
              true,
              true,
              true,
              true,
              true,
              true,
              false,
              false,
              false,
              false,
              false,
              false,
              false,
              false,
              false
             ]
            ],
            "label": "general",
            "method": "restyle"
           },
           {
            "args": [
             "visible",
             [
              false,
              false,
              false,
              false,
              false,
              false,
              false,
              false,
              false,
              false,
              true,
              true,
              true,
              true,
              true
             ]
            ],
            "label": "metrics",
            "method": "restyle"
           }
          ],
          "direction": "down",
          "type": "dropdown"
         }
        ],
        "xaxis": {
         "anchor": "y",
         "domain": [
          0,
          1
         ],
         "title": {
          "text": "index"
         }
        },
        "yaxis": {
         "anchor": "x",
         "domain": [
          0,
          1
         ],
         "showticklabels": false,
         "title": {
          "text": "value"
         }
        }
       }
      }
     },
     "metadata": {},
     "output_type": "display_data"
    }
   ],
   "source": [
    "plot_gs(gs_results_clean[numerical_col].iloc[:25], 'GridSearch values')"
   ]
  },
  {
   "cell_type": "code",
   "execution_count": 16,
   "metadata": {},
   "outputs": [
    {
     "data": {
      "text/plain": [
       "[0]"
      ]
     },
     "execution_count": 16,
     "metadata": {},
     "output_type": "execute_result"
    }
   ],
   "source": [
    "#  best performance\n",
    "n_best_fem = 1\n",
    "sorting_values_col = ['mean_mean_euclidean_error']\n",
    "classes = ['adamax']\n",
    "interesting_index = []\n",
    "\n",
    "for top in topologies_dict.keys():\n",
    "    for val in list(orig_df['adamax'].value_counts().index):\n",
    "        interesting_index += list(orig_df.loc[(orig_df['topology'] == top)\n",
    "                                              & (orig_df['adamax'] == val)].sort_values(['mean_mean_euclidean_error']).head(n_best_fem).index)\n",
    "\n",
    "\n",
    "interesting_index = list(set(interesting_index))\n",
    "interesting_index"
   ]
  },
  {
   "cell_type": "code",
   "execution_count": 17,
   "metadata": {},
   "outputs": [
    {
     "data": {
      "text/html": [
       "<style type=\"text/css\">\n",
       "#T_e0486_row0_col1, #T_e0486_row0_col2, #T_e0486_row0_col3, #T_e0486_row0_col4, #T_e0486_row0_col5, #T_e0486_row0_col6, #T_e0486_row0_col7, #T_e0486_row0_col8, #T_e0486_row0_col9, #T_e0486_row0_col11, #T_e0486_row0_col12, #T_e0486_row0_col13, #T_e0486_row0_col14, #T_e0486_row0_col15 {\n",
       "  background-color: #f7fbff;\n",
       "  color: #000000;\n",
       "}\n",
       "</style>\n",
       "<table id=\"T_e0486\">\n",
       "  <thead>\n",
       "    <tr>\n",
       "      <th class=\"blank level0\" >&nbsp;</th>\n",
       "      <th id=\"T_e0486_level0_col0\" class=\"col_heading level0 col0\" >topology</th>\n",
       "      <th id=\"T_e0486_level0_col1\" class=\"col_heading level0 col1\" >batch_size</th>\n",
       "      <th id=\"T_e0486_level0_col2\" class=\"col_heading level0 col2\" >min_epochs</th>\n",
       "      <th id=\"T_e0486_level0_col3\" class=\"col_heading level0 col3\" >max_epochs</th>\n",
       "      <th id=\"T_e0486_level0_col4\" class=\"col_heading level0 col4\" >patience</th>\n",
       "      <th id=\"T_e0486_level0_col5\" class=\"col_heading level0 col5\" >error_increase_tolerance</th>\n",
       "      <th id=\"T_e0486_level0_col6\" class=\"col_heading level0 col6\" >lambda_tikhonov</th>\n",
       "      <th id=\"T_e0486_level0_col7\" class=\"col_heading level0 col7\" >learning_rate</th>\n",
       "      <th id=\"T_e0486_level0_col8\" class=\"col_heading level0 col8\" >alpha_momentum</th>\n",
       "      <th id=\"T_e0486_level0_col9\" class=\"col_heading level0 col9\" >lr_decay_tau</th>\n",
       "      <th id=\"T_e0486_level0_col10\" class=\"col_heading level0 col10\" >adamax</th>\n",
       "      <th id=\"T_e0486_level0_col11\" class=\"col_heading level0 col11\" >mean_mean_euclidean_error</th>\n",
       "      <th id=\"T_e0486_level0_col12\" class=\"col_heading level0 col12\" >mean_mean_squared_error</th>\n",
       "      <th id=\"T_e0486_level0_col13\" class=\"col_heading level0 col13\" >var_mean_euclidean_error</th>\n",
       "      <th id=\"T_e0486_level0_col14\" class=\"col_heading level0 col14\" >var_mean_squared_error</th>\n",
       "      <th id=\"T_e0486_level0_col15\" class=\"col_heading level0 col15\" >mean_best_validation_training_error</th>\n",
       "    </tr>\n",
       "  </thead>\n",
       "  <tbody>\n",
       "    <tr>\n",
       "      <th id=\"T_e0486_level0_row0\" class=\"row_heading level0 row0\" >0</th>\n",
       "      <td id=\"T_e0486_row0_col0\" class=\"data row0 col0\" >32_sigmoid</td>\n",
       "      <td id=\"T_e0486_row0_col1\" class=\"data row0 col1\" >10</td>\n",
       "      <td id=\"T_e0486_row0_col2\" class=\"data row0 col2\" >100</td>\n",
       "      <td id=\"T_e0486_row0_col3\" class=\"data row0 col3\" >400</td>\n",
       "      <td id=\"T_e0486_row0_col4\" class=\"data row0 col4\" >5</td>\n",
       "      <td id=\"T_e0486_row0_col5\" class=\"data row0 col5\" >0.000010</td>\n",
       "      <td id=\"T_e0486_row0_col6\" class=\"data row0 col6\" >0.000001</td>\n",
       "      <td id=\"T_e0486_row0_col7\" class=\"data row0 col7\" >0.005000</td>\n",
       "      <td id=\"T_e0486_row0_col8\" class=\"data row0 col8\" >0.750000</td>\n",
       "      <td id=\"T_e0486_row0_col9\" class=\"data row0 col9\" >300</td>\n",
       "      <td id=\"T_e0486_row0_col10\" class=\"data row0 col10\" >False</td>\n",
       "      <td id=\"T_e0486_row0_col11\" class=\"data row0 col11\" >0.240853</td>\n",
       "      <td id=\"T_e0486_row0_col12\" class=\"data row0 col12\" >0.076503</td>\n",
       "      <td id=\"T_e0486_row0_col13\" class=\"data row0 col13\" >0.000039</td>\n",
       "      <td id=\"T_e0486_row0_col14\" class=\"data row0 col14\" >0.000016</td>\n",
       "      <td id=\"T_e0486_row0_col15\" class=\"data row0 col15\" >0.071470</td>\n",
       "    </tr>\n",
       "  </tbody>\n",
       "</table>\n"
      ],
      "text/plain": [
       "<pandas.io.formats.style.Styler at 0x7f534bd2f0d0>"
      ]
     },
     "execution_count": 17,
     "metadata": {},
     "output_type": "execute_result"
    }
   ],
   "source": [
    "orig_df.iloc[interesting_index].drop(['stats'], axis=1).style.background_gradient(cmap='Blues')"
   ]
  },
  {
   "cell_type": "code",
   "execution_count": 18,
   "metadata": {},
   "outputs": [],
   "source": [
    "tr_prop = int((2/3) * training_len)\n",
    "\n",
    "def construct_obj(folder, index_list, df):\n",
    "    interesting_model = []\n",
    "    for i in index_list:\n",
    "        \n",
    "        dummy = {}\n",
    "        dummy['nn_file_name'] = folder + df.iloc[i]['topology'] + '_' + str(i) + '.json'\n",
    "        dummy['index'] = i\n",
    "        nn, stats = train_from_index(df, tr_normalized[:tr_prop], tr_normalized[tr_prop:], i, topologies_dict, True)\n",
    "        dummy['model'] = nn\n",
    "        dummy['stats'] = stats\n",
    "        dummy['top_name'] = df.iloc[i]['topology']\n",
    "        \n",
    "        dummy['std_prediction_tr'] = nn.predict_array(tr_normalized[:tr_prop,:TR_INPUT])\n",
    "        dummy['std_prediction_val'] = nn.predict_array(tr_normalized[tr_prop:,:TR_INPUT])\n",
    "        dummy['std_prediction_test'] = nn.predict_array(test_normalized[:,:TR_INPUT])\n",
    "        \n",
    "        dummy['prediction_tr'] = scaler_out.inverse_transform(dummy['std_prediction_tr'])\n",
    "        dummy['prediction_val'] = scaler_out.inverse_transform(dummy['std_prediction_val'])\n",
    "        dummy['prediction_test'] = scaler_out.inverse_transform(dummy['std_prediction_test'])\n",
    "            \n",
    "        dummy['std_tr_error'] = ErrorFunctions.mean_euclidean_error(dummy['std_prediction_tr'], tr_normalized[:tr_prop,TR_INPUT:])\n",
    "        dummy['std_val_error'] = ErrorFunctions.mean_euclidean_error(dummy['std_prediction_val'], tr_normalized[tr_prop:,TR_INPUT:])\n",
    "             \n",
    "        dummy['tr_error'] = ErrorFunctions.mean_euclidean_error(dummy['prediction_tr'], training_set[:tr_prop,TR_INPUT:])\n",
    "        dummy['val_error'] = ErrorFunctions.mean_euclidean_error(dummy['prediction_val'], training_set[tr_prop:,TR_INPUT:])\n",
    "        interesting_model.append(dummy)\n",
    "        \n",
    "    return interesting_model\n"
   ]
  },
  {
   "cell_type": "code",
   "execution_count": null,
   "metadata": {},
   "outputs": [],
   "source": [
    "interesting_model = construct_obj('../data/net/models_4_smooth/', interesting_index, orig_df)"
   ]
  },
  {
   "cell_type": "code",
   "execution_count": 20,
   "metadata": {},
   "outputs": [],
   "source": [
    "with open('../data/net/models_4_smooth/models.json', 'w+') as file:\n",
    "    save_obj(interesting_model, file)"
   ]
  },
  {
   "cell_type": "code",
   "execution_count": 21,
   "metadata": {},
   "outputs": [],
   "source": [
    "interesting_model = load_obj('../data/net/models_4_smooth/models.json')"
   ]
  },
  {
   "cell_type": "code",
   "execution_count": 22,
   "metadata": {},
   "outputs": [],
   "source": [
    "df_im = pd.DataFrame(interesting_model)\n",
    "def take_data(x):\n",
    "    cols = ['training_mean_squared_error','validation_mean_squared_error','training_mean_euclidean_error','validation_mean_euclidean_error']\n",
    "    cols_name = ['tmse','vmse','tmee','vmee']\n",
    "    for i, c in enumerate(cols):\n",
    "        x[cols_name[i]] = x['stats'][c]\n",
    "        \n",
    "    return x\n",
    "df_im = df_im.apply(take_data, axis=1)\n",
    "df_im = df_im.drop(['stats'], axis=1)"
   ]
  },
  {
   "cell_type": "code",
   "execution_count": 23,
   "metadata": {},
   "outputs": [
    {
     "data": {
      "text/html": [
       "<div>\n",
       "<style scoped>\n",
       "    .dataframe tbody tr th:only-of-type {\n",
       "        vertical-align: middle;\n",
       "    }\n",
       "\n",
       "    .dataframe tbody tr th {\n",
       "        vertical-align: top;\n",
       "    }\n",
       "\n",
       "    .dataframe thead th {\n",
       "        text-align: right;\n",
       "    }\n",
       "</style>\n",
       "<table border=\"1\" class=\"dataframe\">\n",
       "  <thead>\n",
       "    <tr style=\"text-align: right;\">\n",
       "      <th></th>\n",
       "      <th>nn_file_name</th>\n",
       "      <th>index</th>\n",
       "      <th>model</th>\n",
       "      <th>top_name</th>\n",
       "      <th>std_prediction_tr</th>\n",
       "      <th>std_prediction_val</th>\n",
       "      <th>std_prediction_test</th>\n",
       "      <th>prediction_tr</th>\n",
       "      <th>prediction_val</th>\n",
       "      <th>prediction_test</th>\n",
       "      <th>std_tr_error</th>\n",
       "      <th>std_val_error</th>\n",
       "      <th>tr_error</th>\n",
       "      <th>val_error</th>\n",
       "      <th>tmse</th>\n",
       "      <th>vmse</th>\n",
       "      <th>tmee</th>\n",
       "      <th>vmee</th>\n",
       "    </tr>\n",
       "  </thead>\n",
       "  <tbody>\n",
       "    <tr>\n",
       "      <th>0</th>\n",
       "      <td>../data/net/models_4_smooth/32_sigmoid_0.json</td>\n",
       "      <td>0</td>\n",
       "      <td>id: 41 w: [ 0.04790888 -0.0415248   0.25646418...</td>\n",
       "      <td>32_sigmoid</td>\n",
       "      <td>[[ 0.43562075  1.00754399 -1.21514194]\\n [ 0.7...</td>\n",
       "      <td>[[ 0.601529   -0.25223633  1.50342988]\\n [ 1.2...</td>\n",
       "      <td>[[ 1.01632535 -0.84334922  1.17595384]\\n [ 0.4...</td>\n",
       "      <td>[[  0.16755795  13.41768854   4.90741639]\\n [ ...</td>\n",
       "      <td>[[ 4.48554294e+00 -2.32998637e+01  3.27102559e...</td>\n",
       "      <td>[[ 15.28117525 -40.5284376   29.36115776]\\n [ ...</td>\n",
       "      <td>0.267155</td>\n",
       "      <td>0.267979</td>\n",
       "      <td>5.644044</td>\n",
       "      <td>5.742377</td>\n",
       "      <td>[0.8878390426369559, 0.33179556961418255, 0.21...</td>\n",
       "      <td>[0.9754222513705557, 0.38755618782421547, 0.24...</td>\n",
       "      <td>[0.8739305164311919, 0.5186404064028767, 0.417...</td>\n",
       "      <td>[0.9204128151387495, 0.5641309554054975, 0.446...</td>\n",
       "    </tr>\n",
       "  </tbody>\n",
       "</table>\n",
       "</div>"
      ],
      "text/plain": [
       "                                    nn_file_name  index  \\\n",
       "0  ../data/net/models_4_smooth/32_sigmoid_0.json      0   \n",
       "\n",
       "                                               model    top_name  \\\n",
       "0  id: 41 w: [ 0.04790888 -0.0415248   0.25646418...  32_sigmoid   \n",
       "\n",
       "                                   std_prediction_tr  \\\n",
       "0  [[ 0.43562075  1.00754399 -1.21514194]\\n [ 0.7...   \n",
       "\n",
       "                                  std_prediction_val  \\\n",
       "0  [[ 0.601529   -0.25223633  1.50342988]\\n [ 1.2...   \n",
       "\n",
       "                                 std_prediction_test  \\\n",
       "0  [[ 1.01632535 -0.84334922  1.17595384]\\n [ 0.4...   \n",
       "\n",
       "                                       prediction_tr  \\\n",
       "0  [[  0.16755795  13.41768854   4.90741639]\\n [ ...   \n",
       "\n",
       "                                      prediction_val  \\\n",
       "0  [[ 4.48554294e+00 -2.32998637e+01  3.27102559e...   \n",
       "\n",
       "                                     prediction_test  std_tr_error  \\\n",
       "0  [[ 15.28117525 -40.5284376   29.36115776]\\n [ ...      0.267155   \n",
       "\n",
       "   std_val_error  tr_error  val_error  \\\n",
       "0       0.267979  5.644044   5.742377   \n",
       "\n",
       "                                                tmse  \\\n",
       "0  [0.8878390426369559, 0.33179556961418255, 0.21...   \n",
       "\n",
       "                                                vmse  \\\n",
       "0  [0.9754222513705557, 0.38755618782421547, 0.24...   \n",
       "\n",
       "                                                tmee  \\\n",
       "0  [0.8739305164311919, 0.5186404064028767, 0.417...   \n",
       "\n",
       "                                                vmee  \n",
       "0  [0.9204128151387495, 0.5641309554054975, 0.446...  "
      ]
     },
     "execution_count": 23,
     "metadata": {},
     "output_type": "execute_result"
    }
   ],
   "source": [
    "df_im"
   ]
  },
  {
   "cell_type": "code",
   "execution_count": 28,
   "metadata": {},
   "outputs": [
    {
     "data": {
      "image/png": "[encoded data removed]",
      "text/plain": [
       "<Figure size 1200x500 with 2 Axes>"
      ]
     },
     "metadata": {},
     "output_type": "display_data"
    }
   ],
   "source": [
    "metrics = [ErrorFunctions.mean_squared_error, ErrorFunctions.mean_euclidean_error]\n",
    "for dummy in interesting_model:\n",
    "    stats = dummy['stats']\n",
    "    fig, ax = plt.subplots(1, len(metrics), figsize=(12, 5))\n",
    "    plt.suptitle('Training Metrics ' + dummy['top_name'])\n",
    "    for i in range(len(metrics)):\n",
    "        multy_plot([stats['training_' + metrics[i].__name__], stats['validation_' + metrics[i].__name__]], \n",
    "                ['tr_' + metrics[i].__name__, 'val_' + metrics[i].__name__],\n",
    "                ax=ax[i])"
   ]
  }
 ],
 "metadata": {
  "kernelspec": {
   "display_name": "DM_Proj",
   "language": "python",
   "name": "python3"
  },
  "language_info": {
   "codemirror_mode": {
    "name": "ipython",
    "version": 3
   },
   "file_extension": ".py",
   "mimetype": "text/x-python",
   "name": "python",
   "nbconvert_exporter": "python",
   "pygments_lexer": "ipython3",
   "version": "3.11.6"
  }
 },
 "nbformat": 4,
 "nbformat_minor": 2
}
