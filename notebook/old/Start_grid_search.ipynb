{
 "cells": [
  {
   "cell_type": "code",
   "execution_count": 7,
   "metadata": {},
   "outputs": [],
   "source": [
    "import sys\n",
    "import os\n",
    "import pandas as pd\n",
    "\n",
    "sys.path.append(os.path.abspath('../src/'))\n",
    "from ModelSelection import *\n",
    "from ActivationFunctions import *\n",
    "from NeuralNetwork import *\n",
    "from MyUtils import *"
   ]
  },
  {
   "cell_type": "code",
   "execution_count": 8,
   "metadata": {},
   "outputs": [],
   "source": [
    "tr_norm_df = pd.read_csv('../data/divided_std_train_0_8.csv')\n",
    "test_norm_df = pd.read_csv('../data/divided_std_test_0_2.csv')\n",
    "\n",
    "training_len = len(tr_norm_df)\n",
    "test_len = len(test_norm_df)\n",
    "\n",
    "INPUT = 10\n",
    "OUTPUT = 3"
   ]
  },
  {
   "cell_type": "code",
   "execution_count": 9,
   "metadata": {},
   "outputs": [],
   "source": [
    "hidden_len = 32\n",
    "hidden_fun = 'sigmoid'\n",
    "output_fun = 'identity'\n",
    "sigmoid_l1 = create_stratified_topology([INPUT,hidden_len,OUTPUT], \n",
    "                                      [[None,[]]]*INPUT + [[hidden_fun, [1]]]*hidden_len + [[output_fun, []]]*OUTPUT)"
   ]
  },
  {
   "cell_type": "code",
   "execution_count": null,
   "metadata": {},
   "outputs": [],
   "source": [
    "MS = ModelSelection('../data/gs_data/1l_sigmoid_5_sm.csv')\n",
    "MS.default_values['metrics'] = [ErrorFunctions.mean_euclidean_error, ErrorFunctions.mean_squared_error]\n",
    "hyperparam_grid = {\n",
    "    'lambda_tikhonov':[0.0000001],\n",
    "    'batch_size':[10],\n",
    "    'min_epochs': [100],\n",
    "    'max_epochs':[400],\n",
    "    \n",
    "    \n",
    "    'learning_rate':[0.05, 0.1],\n",
    "    'lr_decay_tau':[137.5, 175],\n",
    "    'alpha_momentum':[0.75, 0.9],\n",
    "    \n",
    "    \n",
    "    'error_increase_tolerance':[0.000001],\n",
    "    'patience':[5],\n",
    "    'topology': [str(sigmoid_l1)],\n",
    "    \n",
    "    'adamax' : [False],\n",
    "}\n",
    "MS.grid_searchKF(tr_norm_df.values, hyperparam_grid,  3, 6, True, {})"
   ]
  }
 ],
 "metadata": {
  "kernelspec": {
   "display_name": "DM_Proj",
   "language": "python",
   "name": "python3"
  },
  "language_info": {
   "codemirror_mode": {
    "name": "ipython",
    "version": 3
   },
   "file_extension": ".py",
   "mimetype": "text/x-python",
   "name": "python",
   "nbconvert_exporter": "python",
   "pygments_lexer": "ipython3",
   "version": "3.12.1"
  }
 },
 "nbformat": 4,
 "nbformat_minor": 2
}
